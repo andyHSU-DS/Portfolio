{
 "cells": [
  {
   "cell_type": "code",
   "execution_count": 1,
   "metadata": {},
   "outputs": [],
   "source": [
    "import pandas as pd"
   ]
  },
  {
   "cell_type": "code",
   "execution_count": 2,
   "metadata": {},
   "outputs": [],
   "source": [
    "from sklearn.decomposition import PCA"
   ]
  },
  {
   "cell_type": "code",
   "execution_count": 3,
   "metadata": {},
   "outputs": [],
   "source": [
    "df = pd.read_csv(\"https://bit.ly/2FkIaTv\", sep=\"\\t\", index_col=\"名稱\")"
   ]
  },
  {
   "cell_type": "code",
   "execution_count": 4,
   "metadata": {},
   "outputs": [],
   "source": [
    "df_y=df.iloc[:,0]\n",
    "df_x=df.iloc[:,1:]"
   ]
  },
  {
   "cell_type": "code",
   "execution_count": 5,
   "metadata": {},
   "outputs": [],
   "source": [
    "from sklearn.preprocessing import StandardScaler\n",
    "sc=StandardScaler()\n",
    "Z=sc.fit_transform(df_x)"
   ]
  },
  {
   "cell_type": "code",
   "execution_count": 6,
   "metadata": {},
   "outputs": [],
   "source": [
    "# 我們只要最大的兩個主成分。scikit-learn 會自動幫我們\n",
    "# 依照 eigenvalue 的大小排序共變異數矩陣的 eigenvectors\n",
    "n_components = 3\n",
    "random_state = 9527"
   ]
  },
  {
   "cell_type": "code",
   "execution_count": 7,
   "metadata": {},
   "outputs": [],
   "source": [
    "pca = PCA(n_components=n_components, \n",
    "          random_state=random_state)"
   ]
  },
  {
   "cell_type": "code",
   "execution_count": 8,
   "metadata": {},
   "outputs": [],
   "source": [
    "# 注意我們是對正規化後的特徵 Z 做 PCA\n",
    "L = pca.fit_transform(Z)  # (n_samples, n_components)"
   ]
  },
  {
   "cell_type": "code",
   "execution_count": 9,
   "metadata": {},
   "outputs": [
    {
     "data": {
      "text/plain": [
       "array([[-2.39978208,  3.26359899,  0.29350639],\n",
       "       [ 2.37995323, -0.28613516,  1.34680345],\n",
       "       [-3.28816922,  1.4106088 ,  2.11721013],\n",
       "       [-1.69101467, -2.37471999,  0.63220725],\n",
       "       [-1.22971682, -0.61449092, -0.30261021],\n",
       "       [ 3.75134435,  0.34419776,  0.03229301],\n",
       "       [ 2.83233597,  0.10560262,  1.15452439],\n",
       "       [ 2.93989357,  1.18704826, -0.56992509],\n",
       "       [ 1.99741606,  1.34963784, -0.39723655],\n",
       "       [ 2.01634406, -1.17330611,  0.87036718],\n",
       "       [ 1.96563629, -0.44193762,  1.8139099 ],\n",
       "       [ 1.32313935, -0.41921659, -0.32498665],\n",
       "       [-1.33828047, -1.55088631, -0.27408294],\n",
       "       [ 1.92395599,  0.39375324,  0.836851  ],\n",
       "       [-1.3426964 , -1.77553415, -0.39099477],\n",
       "       [ 2.55710479,  0.81119973, -0.26430426],\n",
       "       [-1.74003983, -0.97361262, -0.87614866],\n",
       "       [ 2.27519512, -0.58762073,  0.89794787],\n",
       "       [-2.43960464, -0.20491809, -1.68907394],\n",
       "       [ 2.24509821,  0.40863012, -0.1106408 ],\n",
       "       [-2.72199109, -0.80830443,  0.72973771],\n",
       "       [-1.12972038, -1.45365259,  1.08067162],\n",
       "       [-3.34365878,  2.70940031,  0.73815507],\n",
       "       [ 1.62944051, -0.2118512 , -0.28326253],\n",
       "       [-1.15090246, -1.3457038 , -0.67513643],\n",
       "       [ 2.02261494, -0.75980667,  0.2579762 ],\n",
       "       [-1.27706449, -0.72691582, -1.15044514],\n",
       "       [ 2.89758553,  0.26845085, -0.46011039],\n",
       "       [ 2.47189333, -0.07970107, -0.50719095],\n",
       "       [-1.68003063, -0.66432126, -0.96824003],\n",
       "       [-0.34754276, -1.39192019,  1.46064463],\n",
       "       [-0.34113811, -2.61884307,  2.64056158],\n",
       "       [-1.07383452, -0.11061891, -1.56816005],\n",
       "       [-3.49280355,  2.70065577,  0.18326578],\n",
       "       [ 0.37710729,  4.6280865 , -2.24896123],\n",
       "       [-0.68916213, -1.96158276, -0.39293624],\n",
       "       [-0.48087884, -0.78470159, -0.10476055],\n",
       "       [-1.8910859 , -0.66154332, -0.55564032],\n",
       "       [ 2.10969348,  0.45599727,  0.99506609],\n",
       "       [-2.23385944, -1.74631009,  0.09465471],\n",
       "       [-1.33745577, -1.4414789 ,  0.35658484],\n",
       "       [ 1.38875394, -2.35032279,  0.68870452],\n",
       "       [ 3.83602274,  0.8572381 , -2.47988228],\n",
       "       [-1.55312065, -0.57686703, -0.33681788],\n",
       "       [-2.44762371, -0.87896279, -0.73596609],\n",
       "       [ 0.65147717, -0.71272324,  0.20450196],\n",
       "       [ 2.04581272, -0.48879654,  0.01870367],\n",
       "       [ 2.01622734, -0.41463201, -0.76125505],\n",
       "       [ 1.38763334,  0.44237309, -0.32898947],\n",
       "       [ 1.48274782,  0.8550593 , -0.48484432],\n",
       "       [ 1.75901953, -0.42406715,  0.66855147],\n",
       "       [ 2.60829525, -0.39277736,  0.96105445],\n",
       "       [ 0.8357118 , -1.78306742, -0.09399897],\n",
       "       [-2.70687199,  2.49562693,  1.89167704],\n",
       "       [ 0.22970506, -1.23978333, -0.33410881],\n",
       "       [-1.37547422, -2.01197492, -1.53247164],\n",
       "       [ 0.94576363,  3.2359836 ,  0.98070006],\n",
       "       [-1.91517473, -0.41373423, -0.9099011 ],\n",
       "       [ 0.8604666 ,  0.67934173, -0.55595233],\n",
       "       [-0.45147437,  5.08615042, -2.55076097],\n",
       "       [ 1.979366  ,  0.18863665, -0.22776651],\n",
       "       [ 1.54299919, -0.87355617,  0.76387416],\n",
       "       [-2.9587591 ,  2.27156876,  0.09821492],\n",
       "       [-1.74175547, -1.30963371, -1.4192715 ],\n",
       "       [ 2.20816993,  0.01186044,  1.08573965],\n",
       "       [ 1.15119668, -0.03022376, -0.54415923],\n",
       "       [ 2.8151671 ,  0.33530765, -1.55435572],\n",
       "       [ 3.22546829,  0.26282107,  0.54298228],\n",
       "       [-1.3199508 , -0.67706015, -0.65187321],\n",
       "       [ 2.0929853 ,  0.06301307,  0.91028034],\n",
       "       [-0.93034508, -1.10089313, -0.64368835],\n",
       "       [-2.69429721, -0.66287002,  0.0202528 ],\n",
       "       [ 2.56701343,  0.14764359,  0.38033364],\n",
       "       [-1.58462974, -0.36376553, -1.08819994],\n",
       "       [-1.9993702 ,  2.68733854,  0.37556057],\n",
       "       [ 1.54373669, -0.36014093, -0.13101491],\n",
       "       [ 2.49517996,  1.27751938, -1.59219771],\n",
       "       [-2.29496442, -0.80129304, -0.365829  ],\n",
       "       [-0.72301606, -1.14672386, -1.25393602],\n",
       "       [ 2.02239773, -0.43426889,  1.48238541],\n",
       "       [ 1.22905142, -0.27231186, -0.59759983],\n",
       "       [-2.18627984, -0.29446797, -0.77760382],\n",
       "       [-0.95640703,  0.20515995, -1.24904907],\n",
       "       [-2.64218566, -1.30378508, -0.06796572],\n",
       "       [ 4.15914844,  0.12498119,  1.9811875 ],\n",
       "       [-1.95679722, -1.62234675, -0.16242913],\n",
       "       [-2.27900596, -0.57032762,  0.45071293],\n",
       "       [-1.72617461, -0.75518915, -0.73861149],\n",
       "       [-0.96326299, -2.53759806, -1.43413379],\n",
       "       [-1.06464379, -1.49423008, -0.17635277],\n",
       "       [ 1.10663262,  1.08245358, -0.30173488],\n",
       "       [ 0.1594439 , -0.07678699, -1.29419894],\n",
       "       [-1.17719407, -0.63258918,  0.41825449],\n",
       "       [-2.42179321,  2.66243966,  0.03484638],\n",
       "       [-3.3788578 ,  2.46815554,  0.26623265],\n",
       "       [-3.48365611,  2.74776683,  0.62997947],\n",
       "       [-2.68375973,  3.14806176,  0.26136943],\n",
       "       [-2.79044494,  2.55063534,  0.69430562],\n",
       "       [ 0.15449467, -1.73977247,  1.64252642],\n",
       "       [-1.44615295, -1.60554723,  0.05729871],\n",
       "       [ 2.95921715,  1.32787833, -1.5128532 ],\n",
       "       [-2.06102654, -0.63561723,  0.0618443 ],\n",
       "       [-1.60100545,  1.64958562,  0.29286269],\n",
       "       [-4.00751057,  1.8715297 ,  1.20585505],\n",
       "       [-2.2865666 , -1.27812597, -0.82239284],\n",
       "       [-1.08203102,  0.12070726, -2.28547862],\n",
       "       [ 1.76733993, -0.31441543, -0.72402126],\n",
       "       [-2.09123835, -1.05297283, -0.50492075],\n",
       "       [ 3.03488618,  1.25482575, -1.32925164],\n",
       "       [ 3.02880333,  0.70803957, -2.01728589],\n",
       "       [ 1.94712156, -0.31358253,  0.3152896 ],\n",
       "       [-2.81548641, -2.48299096,  0.26419251],\n",
       "       [ 2.48529408, -0.90574517,  0.44616052],\n",
       "       [-1.34357058, -2.32059169, -0.00614428],\n",
       "       [ 1.83060176, -0.47138966,  0.99139846],\n",
       "       [-2.81339396, -2.43789009,  0.32933391],\n",
       "       [-0.72094878, -1.63638564, -1.15339288],\n",
       "       [ 1.78260354,  0.92234621,  0.92594812],\n",
       "       [ 0.81295667, -0.77940992,  0.55487349],\n",
       "       [ 1.55071721,  0.92648743, -0.04866108],\n",
       "       [-2.48698857, -1.25142785, -0.09131957],\n",
       "       [-4.02571103,  1.56506245,  1.80489515],\n",
       "       [ 2.09594579,  0.19669549,  1.83021358],\n",
       "       [ 1.49734333,  0.60244254, -0.48652581],\n",
       "       [-2.20207973, -0.53302911,  0.70372753],\n",
       "       [-0.42366134, -1.39817518, -0.77763169],\n",
       "       [ 2.39560542,  0.26490742, -0.26627978],\n",
       "       [ 1.90037424,  1.43360514,  0.09294951],\n",
       "       [ 2.30397386, -0.53961012,  1.52705747],\n",
       "       [ 2.12278195, -0.0120684 ,  0.8688885 ],\n",
       "       [-1.60065146, -1.16871599, -0.49030848],\n",
       "       [ 1.71467636, -0.36765957,  1.20626365],\n",
       "       [-0.11278541,  3.24182763,  2.35599233],\n",
       "       [-2.22496927, -0.49693845, -0.65456866],\n",
       "       [-0.50659792,  0.27545102, -1.29054481],\n",
       "       [ 2.26616305, -0.09743391, -0.45059755],\n",
       "       [ 1.98245093, -0.23897481,  1.29111514],\n",
       "       [-2.0913946 , -0.4310704 , -0.08073729],\n",
       "       [-1.38414396,  3.29145699,  0.61352952],\n",
       "       [-1.76610301, -1.77686686,  0.44515888],\n",
       "       [ 3.56692314,  1.6873735 , -1.91519638],\n",
       "       [-3.16888165,  2.26259474,  1.72834509],\n",
       "       [-2.49909634,  2.30743115,  0.41999338],\n",
       "       [ 2.55289359, -0.54279172,  1.29487825],\n",
       "       [ 2.77864833,  0.16116937, -0.10782266],\n",
       "       [ 1.31821307, -0.33170866,  1.44089789],\n",
       "       [ 1.9183444 ,  1.34289107, -0.54713062]])"
      ]
     },
     "execution_count": 9,
     "metadata": {},
     "output_type": "execute_result"
    }
   ],
   "source": [
    "L"
   ]
  },
  {
   "cell_type": "code",
   "execution_count": 10,
   "metadata": {},
   "outputs": [
    {
     "data": {
      "image/png": "[encoded data removed]",
      "text/plain": [
       "<Figure size 432x288 with 1 Axes>"
      ]
     },
     "metadata": {
      "needs_background": "light"
     },
     "output_type": "display_data"
    }
   ],
   "source": [
    "import matplotlib.pyplot as plt\n",
    "plt.scatter(L[:, 0], L[:, 1])\n",
    "plt.axis('equal');"
   ]
  },
  {
   "cell_type": "code",
   "execution_count": 11,
   "metadata": {},
   "outputs": [
    {
     "data": {
      "text/plain": [
       "array([[ 0.42983827,  0.28354373,  0.19094454,  0.14312443, -0.14051295,\n",
       "        -0.31569403, -0.30611283, -0.33330987, -0.35045703, -0.34125548,\n",
       "        -0.33825289],\n",
       "       [ 0.07159365, -0.42951637, -0.56193725, -0.50440682, -0.32344698,\n",
       "        -0.2437125 , -0.20875047,  0.01381896, -0.02114543, -0.0801833 ,\n",
       "        -0.15978857],\n",
       "       [ 0.15630374, -0.00584495, -0.04095984, -0.43345392,  0.68684324,\n",
       "         0.15985122,  0.17580406,  0.0885914 , -0.23429038, -0.44157845,\n",
       "        -0.00546871]])"
      ]
     },
     "execution_count": 11,
     "metadata": {},
     "output_type": "execute_result"
    }
   ],
   "source": [
    "pca.components_#選出來的前兩大主成份"
   ]
  },
  {
   "cell_type": "code",
   "execution_count": 12,
   "metadata": {},
   "outputs": [
    {
     "data": {
      "text/html": [
       "<style  type=\"text/css\" >\n",
       "#T_caa25eac_bba7_11eb_aff9_1e00d90a4635row0_col0{\n",
       "            background-color:  #6868ff;\n",
       "            color:  #000000;\n",
       "        }#T_caa25eac_bba7_11eb_aff9_1e00d90a4635row0_col1{\n",
       "            background-color:  #a4a4ff;\n",
       "            color:  #000000;\n",
       "        }#T_caa25eac_bba7_11eb_aff9_1e00d90a4635row0_col2{\n",
       "            background-color:  #cacaff;\n",
       "            color:  #000000;\n",
       "        }#T_caa25eac_bba7_11eb_aff9_1e00d90a4635row0_col3{\n",
       "            background-color:  #dedeff;\n",
       "            color:  #000000;\n",
       "        }#T_caa25eac_bba7_11eb_aff9_1e00d90a4635row0_col4{\n",
       "            background-color:  #ffacac;\n",
       "            color:  #000000;\n",
       "        }#T_caa25eac_bba7_11eb_aff9_1e00d90a4635row0_col5{\n",
       "            background-color:  #ff6464;\n",
       "            color:  #000000;\n",
       "        }#T_caa25eac_bba7_11eb_aff9_1e00d90a4635row0_col6{\n",
       "            background-color:  #ff6868;\n",
       "            color:  #000000;\n",
       "        }#T_caa25eac_bba7_11eb_aff9_1e00d90a4635row0_col7{\n",
       "            background-color:  #ff5c5c;\n",
       "            color:  #000000;\n",
       "        }#T_caa25eac_bba7_11eb_aff9_1e00d90a4635row0_col8{\n",
       "            background-color:  #ff5656;\n",
       "            color:  #000000;\n",
       "        }#T_caa25eac_bba7_11eb_aff9_1e00d90a4635row0_col9,#T_caa25eac_bba7_11eb_aff9_1e00d90a4635row0_col10{\n",
       "            background-color:  #ff5a5a;\n",
       "            color:  #000000;\n",
       "        }#T_caa25eac_bba7_11eb_aff9_1e00d90a4635row1_col0{\n",
       "            background-color:  #fcfcff;\n",
       "            color:  #000000;\n",
       "        }#T_caa25eac_bba7_11eb_aff9_1e00d90a4635row1_col1{\n",
       "            background-color:  #ff3636;\n",
       "            color:  #f1f1f1;\n",
       "        }#T_caa25eac_bba7_11eb_aff9_1e00d90a4635row1_col2{\n",
       "            background-color:  #ff0000;\n",
       "            color:  #f1f1f1;\n",
       "        }#T_caa25eac_bba7_11eb_aff9_1e00d90a4635row1_col3{\n",
       "            background-color:  #ff1616;\n",
       "            color:  #f1f1f1;\n",
       "        }#T_caa25eac_bba7_11eb_aff9_1e00d90a4635row1_col4{\n",
       "            background-color:  #ff6060;\n",
       "            color:  #000000;\n",
       "        }#T_caa25eac_bba7_11eb_aff9_1e00d90a4635row1_col5{\n",
       "            background-color:  #ff8282;\n",
       "            color:  #000000;\n",
       "        }#T_caa25eac_bba7_11eb_aff9_1e00d90a4635row1_col6{\n",
       "            background-color:  #ff9090;\n",
       "            color:  #000000;\n",
       "        }#T_caa25eac_bba7_11eb_aff9_1e00d90a4635row1_col7{\n",
       "            background-color:  #ffecec;\n",
       "            color:  #000000;\n",
       "        }#T_caa25eac_bba7_11eb_aff9_1e00d90a4635row1_col8{\n",
       "            background-color:  #ffdcdc;\n",
       "            color:  #000000;\n",
       "        }#T_caa25eac_bba7_11eb_aff9_1e00d90a4635row1_col9{\n",
       "            background-color:  #ffc4c4;\n",
       "            color:  #000000;\n",
       "        }#T_caa25eac_bba7_11eb_aff9_1e00d90a4635row1_col10{\n",
       "            background-color:  #ffa4a4;\n",
       "            color:  #000000;\n",
       "        }#T_caa25eac_bba7_11eb_aff9_1e00d90a4635row2_col0,#T_caa25eac_bba7_11eb_aff9_1e00d90a4635row2_col5{\n",
       "            background-color:  #d8d8ff;\n",
       "            color:  #000000;\n",
       "        }#T_caa25eac_bba7_11eb_aff9_1e00d90a4635row2_col1{\n",
       "            background-color:  #ffe2e2;\n",
       "            color:  #000000;\n",
       "        }#T_caa25eac_bba7_11eb_aff9_1e00d90a4635row2_col2{\n",
       "            background-color:  #ffd4d4;\n",
       "            color:  #000000;\n",
       "        }#T_caa25eac_bba7_11eb_aff9_1e00d90a4635row2_col3{\n",
       "            background-color:  #ff3434;\n",
       "            color:  #f1f1f1;\n",
       "        }#T_caa25eac_bba7_11eb_aff9_1e00d90a4635row2_col4{\n",
       "            background-color:  #0000ff;\n",
       "            color:  #f1f1f1;\n",
       "        }#T_caa25eac_bba7_11eb_aff9_1e00d90a4635row2_col6{\n",
       "            background-color:  #d0d0ff;\n",
       "            color:  #000000;\n",
       "        }#T_caa25eac_bba7_11eb_aff9_1e00d90a4635row2_col7{\n",
       "            background-color:  #f4f4ff;\n",
       "            color:  #000000;\n",
       "        }#T_caa25eac_bba7_11eb_aff9_1e00d90a4635row2_col8{\n",
       "            background-color:  #ff8686;\n",
       "            color:  #000000;\n",
       "        }#T_caa25eac_bba7_11eb_aff9_1e00d90a4635row2_col9{\n",
       "            background-color:  #ff3030;\n",
       "            color:  #f1f1f1;\n",
       "        }#T_caa25eac_bba7_11eb_aff9_1e00d90a4635row2_col10{\n",
       "            background-color:  #ffe4e4;\n",
       "            color:  #000000;\n",
       "        }</style><table id=\"T_caa25eac_bba7_11eb_aff9_1e00d90a4635\" ><thead>    <tr>        <th class=\"blank level0\" ></th>        <th class=\"col_heading level0 col0\" >攻擊距離</th>        <th class=\"col_heading level0 col1\" >魔力</th>        <th class=\"col_heading level0 col2\" >魔力回復</th>        <th class=\"col_heading level0 col3\" >魔力提升</th>        <th class=\"col_heading level0 col4\" >生命提升</th>        <th class=\"col_heading level0 col5\" >生命</th>        <th class=\"col_heading level0 col6\" >生命回復</th>        <th class=\"col_heading level0 col7\" >移動速度</th>        <th class=\"col_heading level0 col8\" >物理攻擊</th>        <th class=\"col_heading level0 col9\" >物理防禦</th>        <th class=\"col_heading level0 col10\" >魔法防禦</th>    </tr></thead><tbody>\n",
       "                <tr>\n",
       "                        <th id=\"T_caa25eac_bba7_11eb_aff9_1e00d90a4635level0_row0\" class=\"row_heading level0 row0\" >第一主成分</th>\n",
       "                        <td id=\"T_caa25eac_bba7_11eb_aff9_1e00d90a4635row0_col0\" class=\"data row0 col0\" >0.43</td>\n",
       "                        <td id=\"T_caa25eac_bba7_11eb_aff9_1e00d90a4635row0_col1\" class=\"data row0 col1\" >0.28</td>\n",
       "                        <td id=\"T_caa25eac_bba7_11eb_aff9_1e00d90a4635row0_col2\" class=\"data row0 col2\" >0.19</td>\n",
       "                        <td id=\"T_caa25eac_bba7_11eb_aff9_1e00d90a4635row0_col3\" class=\"data row0 col3\" >0.14</td>\n",
       "                        <td id=\"T_caa25eac_bba7_11eb_aff9_1e00d90a4635row0_col4\" class=\"data row0 col4\" >-0.14</td>\n",
       "                        <td id=\"T_caa25eac_bba7_11eb_aff9_1e00d90a4635row0_col5\" class=\"data row0 col5\" >-0.32</td>\n",
       "                        <td id=\"T_caa25eac_bba7_11eb_aff9_1e00d90a4635row0_col6\" class=\"data row0 col6\" >-0.31</td>\n",
       "                        <td id=\"T_caa25eac_bba7_11eb_aff9_1e00d90a4635row0_col7\" class=\"data row0 col7\" >-0.33</td>\n",
       "                        <td id=\"T_caa25eac_bba7_11eb_aff9_1e00d90a4635row0_col8\" class=\"data row0 col8\" >-0.35</td>\n",
       "                        <td id=\"T_caa25eac_bba7_11eb_aff9_1e00d90a4635row0_col9\" class=\"data row0 col9\" >-0.34</td>\n",
       "                        <td id=\"T_caa25eac_bba7_11eb_aff9_1e00d90a4635row0_col10\" class=\"data row0 col10\" >-0.34</td>\n",
       "            </tr>\n",
       "            <tr>\n",
       "                        <th id=\"T_caa25eac_bba7_11eb_aff9_1e00d90a4635level0_row1\" class=\"row_heading level0 row1\" >第二主成分</th>\n",
       "                        <td id=\"T_caa25eac_bba7_11eb_aff9_1e00d90a4635row1_col0\" class=\"data row1 col0\" >0.072</td>\n",
       "                        <td id=\"T_caa25eac_bba7_11eb_aff9_1e00d90a4635row1_col1\" class=\"data row1 col1\" >-0.43</td>\n",
       "                        <td id=\"T_caa25eac_bba7_11eb_aff9_1e00d90a4635row1_col2\" class=\"data row1 col2\" >-0.56</td>\n",
       "                        <td id=\"T_caa25eac_bba7_11eb_aff9_1e00d90a4635row1_col3\" class=\"data row1 col3\" >-0.5</td>\n",
       "                        <td id=\"T_caa25eac_bba7_11eb_aff9_1e00d90a4635row1_col4\" class=\"data row1 col4\" >-0.32</td>\n",
       "                        <td id=\"T_caa25eac_bba7_11eb_aff9_1e00d90a4635row1_col5\" class=\"data row1 col5\" >-0.24</td>\n",
       "                        <td id=\"T_caa25eac_bba7_11eb_aff9_1e00d90a4635row1_col6\" class=\"data row1 col6\" >-0.21</td>\n",
       "                        <td id=\"T_caa25eac_bba7_11eb_aff9_1e00d90a4635row1_col7\" class=\"data row1 col7\" >0.014</td>\n",
       "                        <td id=\"T_caa25eac_bba7_11eb_aff9_1e00d90a4635row1_col8\" class=\"data row1 col8\" >-0.021</td>\n",
       "                        <td id=\"T_caa25eac_bba7_11eb_aff9_1e00d90a4635row1_col9\" class=\"data row1 col9\" >-0.08</td>\n",
       "                        <td id=\"T_caa25eac_bba7_11eb_aff9_1e00d90a4635row1_col10\" class=\"data row1 col10\" >-0.16</td>\n",
       "            </tr>\n",
       "            <tr>\n",
       "                        <th id=\"T_caa25eac_bba7_11eb_aff9_1e00d90a4635level0_row2\" class=\"row_heading level0 row2\" >第三主成分</th>\n",
       "                        <td id=\"T_caa25eac_bba7_11eb_aff9_1e00d90a4635row2_col0\" class=\"data row2 col0\" >0.16</td>\n",
       "                        <td id=\"T_caa25eac_bba7_11eb_aff9_1e00d90a4635row2_col1\" class=\"data row2 col1\" >-0.0058</td>\n",
       "                        <td id=\"T_caa25eac_bba7_11eb_aff9_1e00d90a4635row2_col2\" class=\"data row2 col2\" >-0.041</td>\n",
       "                        <td id=\"T_caa25eac_bba7_11eb_aff9_1e00d90a4635row2_col3\" class=\"data row2 col3\" >-0.43</td>\n",
       "                        <td id=\"T_caa25eac_bba7_11eb_aff9_1e00d90a4635row2_col4\" class=\"data row2 col4\" >0.69</td>\n",
       "                        <td id=\"T_caa25eac_bba7_11eb_aff9_1e00d90a4635row2_col5\" class=\"data row2 col5\" >0.16</td>\n",
       "                        <td id=\"T_caa25eac_bba7_11eb_aff9_1e00d90a4635row2_col6\" class=\"data row2 col6\" >0.18</td>\n",
       "                        <td id=\"T_caa25eac_bba7_11eb_aff9_1e00d90a4635row2_col7\" class=\"data row2 col7\" >0.089</td>\n",
       "                        <td id=\"T_caa25eac_bba7_11eb_aff9_1e00d90a4635row2_col8\" class=\"data row2 col8\" >-0.23</td>\n",
       "                        <td id=\"T_caa25eac_bba7_11eb_aff9_1e00d90a4635row2_col9\" class=\"data row2 col9\" >-0.44</td>\n",
       "                        <td id=\"T_caa25eac_bba7_11eb_aff9_1e00d90a4635row2_col10\" class=\"data row2 col10\" >-0.0055</td>\n",
       "            </tr>\n",
       "    </tbody></table>"
      ],
      "text/plain": [
       "<pandas.io.formats.style.Styler at 0x7fd78b64baf0>"
      ]
     },
     "execution_count": 12,
     "metadata": {},
     "output_type": "execute_result"
    }
   ],
   "source": [
    "import numpy as np\n",
    "pcs = np.array(pca.components_) # (n_comp, n_features)\n",
    "\n",
    "df_pc = pd.DataFrame(pcs, columns=df.columns[1:])\n",
    "df_pc.index = [f\"第{c}主成分\" for c in['一', '二','三']]\n",
    "df_pc.style\\\n",
    "    .background_gradient(cmap='bwr_r', axis=None)\\\n",
    "    .format(\"{:.2}\")"
   ]
  },
  {
   "cell_type": "code",
   "execution_count": null,
   "metadata": {},
   "outputs": [],
   "source": []
  }
 ],
 "metadata": {
  "kernelspec": {
   "display_name": "Python 3",
   "language": "python",
   "name": "python3"
  },
  "language_info": {
   "codemirror_mode": {
    "name": "ipython",
    "version": 3
   },
   "file_extension": ".py",
   "mimetype": "text/x-python",
   "name": "python",
   "nbconvert_exporter": "python",
   "pygments_lexer": "ipython3",
   "version": "3.8.5"
  }
 },
 "nbformat": 4,
 "nbformat_minor": 4
}
