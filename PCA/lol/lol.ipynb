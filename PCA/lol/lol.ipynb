{
 "cells": [
  {
   "cell_type": "code",
   "execution_count": 1,
   "metadata": {},
   "outputs": [],
   "source": [
    "import pandas as pd\n",
    "import numpy as np\n",
    "import matplotlib.pyplot as plt\n",
    "from sklearn.preprocessing import StandardScaler"
   ]
  },
  {
   "cell_type": "code",
   "execution_count": 2,
   "metadata": {},
   "outputs": [],
   "source": [
    "df = pd.read_csv(\"https://bit.ly/2FkIaTv\", sep=\"\\t\", index_col=\"名稱\")"
   ]
  },
  {
   "cell_type": "code",
   "execution_count": 3,
   "metadata": {},
   "outputs": [
    {
     "name": "stdout",
     "output_type": "stream",
     "text": [
      "前五名英雄數據：\n"
     ]
    },
    {
     "data": {
      "text/html": [
       "<div>\n",
       "<style scoped>\n",
       "    .dataframe tbody tr th:only-of-type {\n",
       "        vertical-align: middle;\n",
       "    }\n",
       "\n",
       "    .dataframe tbody tr th {\n",
       "        vertical-align: top;\n",
       "    }\n",
       "\n",
       "    .dataframe thead th {\n",
       "        text-align: right;\n",
       "    }\n",
       "</style>\n",
       "<table border=\"1\" class=\"dataframe\">\n",
       "  <thead>\n",
       "    <tr style=\"text-align: right;\">\n",
       "      <th></th>\n",
       "      <th>類型</th>\n",
       "      <th>攻擊距離</th>\n",
       "      <th>魔力</th>\n",
       "      <th>魔力回復</th>\n",
       "      <th>魔力提升</th>\n",
       "      <th>生命提升</th>\n",
       "      <th>生命</th>\n",
       "      <th>生命回復</th>\n",
       "      <th>移動速度</th>\n",
       "      <th>物理攻擊</th>\n",
       "      <th>物理防禦</th>\n",
       "      <th>魔法防禦</th>\n",
       "    </tr>\n",
       "    <tr>\n",
       "      <th>名稱</th>\n",
       "      <th></th>\n",
       "      <th></th>\n",
       "      <th></th>\n",
       "      <th></th>\n",
       "      <th></th>\n",
       "      <th></th>\n",
       "      <th></th>\n",
       "      <th></th>\n",
       "      <th></th>\n",
       "      <th></th>\n",
       "      <th></th>\n",
       "      <th></th>\n",
       "    </tr>\n",
       "  </thead>\n",
       "  <tbody>\n",
       "    <tr>\n",
       "      <th>厄薩斯</th>\n",
       "      <td>鬥士</td>\n",
       "      <td>175</td>\n",
       "      <td>0</td>\n",
       "      <td>0.0</td>\n",
       "      <td>0</td>\n",
       "      <td>90</td>\n",
       "      <td>580.0</td>\n",
       "      <td>3.0</td>\n",
       "      <td>345</td>\n",
       "      <td>60.0</td>\n",
       "      <td>38.0</td>\n",
       "      <td>32.1</td>\n",
       "    </tr>\n",
       "    <tr>\n",
       "      <th>阿璃</th>\n",
       "      <td>法師</td>\n",
       "      <td>550</td>\n",
       "      <td>418</td>\n",
       "      <td>0.8</td>\n",
       "      <td>25</td>\n",
       "      <td>92</td>\n",
       "      <td>526.0</td>\n",
       "      <td>6.5</td>\n",
       "      <td>330</td>\n",
       "      <td>53.0</td>\n",
       "      <td>20.9</td>\n",
       "      <td>30.0</td>\n",
       "    </tr>\n",
       "    <tr>\n",
       "      <th>阿卡莉</th>\n",
       "      <td>刺客</td>\n",
       "      <td>125</td>\n",
       "      <td>200</td>\n",
       "      <td>0.0</td>\n",
       "      <td>0</td>\n",
       "      <td>95</td>\n",
       "      <td>575.0</td>\n",
       "      <td>8.0</td>\n",
       "      <td>345</td>\n",
       "      <td>62.4</td>\n",
       "      <td>23.0</td>\n",
       "      <td>37.0</td>\n",
       "    </tr>\n",
       "    <tr>\n",
       "      <th>亞歷斯塔</th>\n",
       "      <td>坦克</td>\n",
       "      <td>125</td>\n",
       "      <td>350</td>\n",
       "      <td>0.8</td>\n",
       "      <td>40</td>\n",
       "      <td>106</td>\n",
       "      <td>573.4</td>\n",
       "      <td>8.5</td>\n",
       "      <td>330</td>\n",
       "      <td>61.1</td>\n",
       "      <td>44.0</td>\n",
       "      <td>32.1</td>\n",
       "    </tr>\n",
       "    <tr>\n",
       "      <th>阿姆姆</th>\n",
       "      <td>坦克</td>\n",
       "      <td>125</td>\n",
       "      <td>287</td>\n",
       "      <td>0.5</td>\n",
       "      <td>40</td>\n",
       "      <td>84</td>\n",
       "      <td>613.1</td>\n",
       "      <td>9.0</td>\n",
       "      <td>335</td>\n",
       "      <td>53.4</td>\n",
       "      <td>33.0</td>\n",
       "      <td>32.1</td>\n",
       "    </tr>\n",
       "  </tbody>\n",
       "</table>\n",
       "</div>"
      ],
      "text/plain": [
       "      類型  攻擊距離   魔力  魔力回復  魔力提升  生命提升     生命  生命回復  移動速度  物理攻擊  物理防禦  魔法防禦\n",
       "名稱                                                                        \n",
       "厄薩斯   鬥士   175    0   0.0     0    90  580.0   3.0   345  60.0  38.0  32.1\n",
       "阿璃    法師   550  418   0.8    25    92  526.0   6.5   330  53.0  20.9  30.0\n",
       "阿卡莉   刺客   125  200   0.0     0    95  575.0   8.0   345  62.4  23.0  37.0\n",
       "亞歷斯塔  坦克   125  350   0.8    40   106  573.4   8.5   330  61.1  44.0  32.1\n",
       "阿姆姆   坦克   125  287   0.5    40    84  613.1   9.0   335  53.4  33.0  32.1"
      ]
     },
     "metadata": {},
     "output_type": "display_data"
    }
   ],
   "source": [
    "print(\"前五名英雄數據：\")\n",
    "display(df.head(5))"
   ]
  },
  {
   "cell_type": "code",
   "execution_count": 4,
   "metadata": {},
   "outputs": [
    {
     "data": {
      "text/html": [
       "<style  type=\"text/css\" >\n",
       "</style><table id=\"T_6456774a_bd51_11eb_8b01_1e00d90a4634\" ><thead>    <tr>        <th class=\"blank level0\" ></th>        <th class=\"col_heading level0 col0\" >攻擊距離</th>        <th class=\"col_heading level0 col1\" >魔力</th>        <th class=\"col_heading level0 col2\" >魔力回復</th>        <th class=\"col_heading level0 col3\" >魔力提升</th>        <th class=\"col_heading level0 col4\" >生命提升</th>        <th class=\"col_heading level0 col5\" >生命</th>        <th class=\"col_heading level0 col6\" >生命回復</th>        <th class=\"col_heading level0 col7\" >移動速度</th>        <th class=\"col_heading level0 col8\" >物理攻擊</th>        <th class=\"col_heading level0 col9\" >物理防禦</th>        <th class=\"col_heading level0 col10\" >魔法防禦</th>    </tr></thead><tbody>\n",
       "                <tr>\n",
       "                        <th id=\"T_6456774a_bd51_11eb_8b01_1e00d90a4634level0_row0\" class=\"row_heading level0 row0\" >mean</th>\n",
       "                        <td id=\"T_6456774a_bd51_11eb_8b01_1e00d90a4634row0_col0\" class=\"data row0 col0\" >326.39</td>\n",
       "                        <td id=\"T_6456774a_bd51_11eb_8b01_1e00d90a4634row0_col1\" class=\"data row0 col1\" >309.66</td>\n",
       "                        <td id=\"T_6456774a_bd51_11eb_8b01_1e00d90a4634row0_col2\" class=\"data row0 col2\" >0.57</td>\n",
       "                        <td id=\"T_6456774a_bd51_11eb_8b01_1e00d90a4634row0_col3\" class=\"data row0 col3\" >33.03</td>\n",
       "                        <td id=\"T_6456774a_bd51_11eb_8b01_1e00d90a4634row0_col4\" class=\"data row0 col4\" >88.52</td>\n",
       "                        <td id=\"T_6456774a_bd51_11eb_8b01_1e00d90a4634row0_col5\" class=\"data row0 col5\" >555.83</td>\n",
       "                        <td id=\"T_6456774a_bd51_11eb_8b01_1e00d90a4634row0_col6\" class=\"data row0 col6\" >6.60</td>\n",
       "                        <td id=\"T_6456774a_bd51_11eb_8b01_1e00d90a4634row0_col7\" class=\"data row0 col7\" >336.31</td>\n",
       "                        <td id=\"T_6456774a_bd51_11eb_8b01_1e00d90a4634row0_col8\" class=\"data row0 col8\" >59.37</td>\n",
       "                        <td id=\"T_6456774a_bd51_11eb_8b01_1e00d90a4634row0_col9\" class=\"data row0 col9\" >30.06</td>\n",
       "                        <td id=\"T_6456774a_bd51_11eb_8b01_1e00d90a4634row0_col10\" class=\"data row0 col10\" >31.13</td>\n",
       "            </tr>\n",
       "            <tr>\n",
       "                        <th id=\"T_6456774a_bd51_11eb_8b01_1e00d90a4634level0_row1\" class=\"row_heading level0 row1\" >std</th>\n",
       "                        <td id=\"T_6456774a_bd51_11eb_8b01_1e00d90a4634row1_col0\" class=\"data row1 col0\" >196.52</td>\n",
       "                        <td id=\"T_6456774a_bd51_11eb_8b01_1e00d90a4634row1_col1\" class=\"data row1 col1\" >115.40</td>\n",
       "                        <td id=\"T_6456774a_bd51_11eb_8b01_1e00d90a4634row1_col2\" class=\"data row1 col2\" >0.28</td>\n",
       "                        <td id=\"T_6456774a_bd51_11eb_8b01_1e00d90a4634row1_col3\" class=\"data row1 col3\" >16.62</td>\n",
       "                        <td id=\"T_6456774a_bd51_11eb_8b01_1e00d90a4634row1_col4\" class=\"data row1 col4\" >6.65</td>\n",
       "                        <td id=\"T_6456774a_bd51_11eb_8b01_1e00d90a4634row1_col5\" class=\"data row1 col5\" >37.33</td>\n",
       "                        <td id=\"T_6456774a_bd51_11eb_8b01_1e00d90a4634row1_col6\" class=\"data row1 col6\" >1.78</td>\n",
       "                        <td id=\"T_6456774a_bd51_11eb_8b01_1e00d90a4634row1_col7\" class=\"data row1 col7\" >7.56</td>\n",
       "                        <td id=\"T_6456774a_bd51_11eb_8b01_1e00d90a4634row1_col8\" class=\"data row1 col8\" >6.17</td>\n",
       "                        <td id=\"T_6456774a_bd51_11eb_8b01_1e00d90a4634row1_col9\" class=\"data row1 col9\" >6.72</td>\n",
       "                        <td id=\"T_6456774a_bd51_11eb_8b01_1e00d90a4634row1_col10\" class=\"data row1 col10\" >1.71</td>\n",
       "            </tr>\n",
       "    </tbody></table>"
      ],
      "text/plain": [
       "<pandas.io.formats.style.Styler at 0x7fcf63ebe790>"
      ]
     },
     "execution_count": 4,
     "metadata": {},
     "output_type": "execute_result"
    }
   ],
   "source": [
    "df.describe().loc['mean':'std',:].style.format(\"{:.2f}\")"
   ]
  },
  {
   "cell_type": "code",
   "execution_count": 5,
   "metadata": {},
   "outputs": [],
   "source": [
    "x=df.iloc[:,1:]\n",
    "sc=StandardScaler()\n",
    "z_x=sc.fit_transform(x)"
   ]
  },
  {
   "cell_type": "code",
   "execution_count": 6,
   "metadata": {},
   "outputs": [],
   "source": [
    "z=df.iloc[:,1:]"
   ]
  },
  {
   "cell_type": "code",
   "execution_count": 7,
   "metadata": {},
   "outputs": [
    {
     "name": "stdout",
     "output_type": "stream",
     "text": [
      "標準化之數據:\n",
      "\n"
     ]
    },
    {
     "data": {
      "text/html": [
       "<div>\n",
       "<style scoped>\n",
       "    .dataframe tbody tr th:only-of-type {\n",
       "        vertical-align: middle;\n",
       "    }\n",
       "\n",
       "    .dataframe tbody tr th {\n",
       "        vertical-align: top;\n",
       "    }\n",
       "\n",
       "    .dataframe thead th {\n",
       "        text-align: right;\n",
       "    }\n",
       "</style>\n",
       "<table border=\"1\" class=\"dataframe\">\n",
       "  <thead>\n",
       "    <tr style=\"text-align: right;\">\n",
       "      <th></th>\n",
       "      <th>攻擊距離</th>\n",
       "      <th>魔力</th>\n",
       "      <th>魔力回復</th>\n",
       "      <th>魔力提升</th>\n",
       "      <th>生命提升</th>\n",
       "      <th>生命</th>\n",
       "      <th>生命回復</th>\n",
       "      <th>移動速度</th>\n",
       "      <th>物理攻擊</th>\n",
       "      <th>物理防禦</th>\n",
       "      <th>魔法防禦</th>\n",
       "    </tr>\n",
       "  </thead>\n",
       "  <tbody>\n",
       "    <tr>\n",
       "      <th>0</th>\n",
       "      <td>-0.77</td>\n",
       "      <td>-2.69</td>\n",
       "      <td>-2.02</td>\n",
       "      <td>-1.99</td>\n",
       "      <td>0.22</td>\n",
       "      <td>0.65</td>\n",
       "      <td>-2.03</td>\n",
       "      <td>1.15</td>\n",
       "      <td>0.10</td>\n",
       "      <td>1.19</td>\n",
       "      <td>0.57</td>\n",
       "    </tr>\n",
       "    <tr>\n",
       "      <th>1</th>\n",
       "      <td>1.14</td>\n",
       "      <td>0.94</td>\n",
       "      <td>0.84</td>\n",
       "      <td>-0.48</td>\n",
       "      <td>0.52</td>\n",
       "      <td>-0.80</td>\n",
       "      <td>-0.06</td>\n",
       "      <td>-0.84</td>\n",
       "      <td>-1.04</td>\n",
       "      <td>-1.37</td>\n",
       "      <td>-0.66</td>\n",
       "    </tr>\n",
       "    <tr>\n",
       "      <th>2</th>\n",
       "      <td>-1.03</td>\n",
       "      <td>-0.95</td>\n",
       "      <td>-2.02</td>\n",
       "      <td>-1.99</td>\n",
       "      <td>0.98</td>\n",
       "      <td>0.52</td>\n",
       "      <td>0.79</td>\n",
       "      <td>1.15</td>\n",
       "      <td>0.49</td>\n",
       "      <td>-1.05</td>\n",
       "      <td>3.45</td>\n",
       "    </tr>\n",
       "    <tr>\n",
       "      <th>3</th>\n",
       "      <td>-1.03</td>\n",
       "      <td>0.35</td>\n",
       "      <td>0.84</td>\n",
       "      <td>0.42</td>\n",
       "      <td>2.64</td>\n",
       "      <td>0.47</td>\n",
       "      <td>1.07</td>\n",
       "      <td>-0.84</td>\n",
       "      <td>0.28</td>\n",
       "      <td>2.08</td>\n",
       "      <td>0.57</td>\n",
       "    </tr>\n",
       "    <tr>\n",
       "      <th>4</th>\n",
       "      <td>-1.03</td>\n",
       "      <td>-0.20</td>\n",
       "      <td>-0.23</td>\n",
       "      <td>0.42</td>\n",
       "      <td>-0.68</td>\n",
       "      <td>1.54</td>\n",
       "      <td>1.35</td>\n",
       "      <td>-0.17</td>\n",
       "      <td>-0.97</td>\n",
       "      <td>0.44</td>\n",
       "      <td>0.57</td>\n",
       "    </tr>\n",
       "    <tr>\n",
       "      <th>...</th>\n",
       "      <td>...</td>\n",
       "      <td>...</td>\n",
       "      <td>...</td>\n",
       "      <td>...</td>\n",
       "      <td>...</td>\n",
       "      <td>...</td>\n",
       "      <td>...</td>\n",
       "      <td>...</td>\n",
       "      <td>...</td>\n",
       "      <td>...</td>\n",
       "      <td>...</td>\n",
       "    </tr>\n",
       "    <tr>\n",
       "      <th>142</th>\n",
       "      <td>-1.03</td>\n",
       "      <td>-0.95</td>\n",
       "      <td>-2.02</td>\n",
       "      <td>-1.99</td>\n",
       "      <td>-0.53</td>\n",
       "      <td>0.76</td>\n",
       "      <td>0.22</td>\n",
       "      <td>1.15</td>\n",
       "      <td>0.59</td>\n",
       "      <td>0.29</td>\n",
       "      <td>0.57</td>\n",
       "    </tr>\n",
       "    <tr>\n",
       "      <th>143</th>\n",
       "      <td>1.14</td>\n",
       "      <td>1.48</td>\n",
       "      <td>0.84</td>\n",
       "      <td>-0.61</td>\n",
       "      <td>0.52</td>\n",
       "      <td>-0.53</td>\n",
       "      <td>-0.06</td>\n",
       "      <td>-1.50</td>\n",
       "      <td>-0.84</td>\n",
       "      <td>-1.28</td>\n",
       "      <td>-0.66</td>\n",
       "    </tr>\n",
       "    <tr>\n",
       "      <th>144</th>\n",
       "      <td>1.14</td>\n",
       "      <td>1.24</td>\n",
       "      <td>0.84</td>\n",
       "      <td>-0.18</td>\n",
       "      <td>-0.98</td>\n",
       "      <td>-1.39</td>\n",
       "      <td>-0.62</td>\n",
       "      <td>-0.17</td>\n",
       "      <td>-1.26</td>\n",
       "      <td>-0.90</td>\n",
       "      <td>-0.66</td>\n",
       "    </tr>\n",
       "    <tr>\n",
       "      <th>145</th>\n",
       "      <td>1.14</td>\n",
       "      <td>1.00</td>\n",
       "      <td>0.48</td>\n",
       "      <td>-0.48</td>\n",
       "      <td>0.52</td>\n",
       "      <td>0.11</td>\n",
       "      <td>-0.06</td>\n",
       "      <td>0.49</td>\n",
       "      <td>-0.22</td>\n",
       "      <td>-1.38</td>\n",
       "      <td>-0.66</td>\n",
       "    </tr>\n",
       "    <tr>\n",
       "      <th>146</th>\n",
       "      <td>1.27</td>\n",
       "      <td>0.94</td>\n",
       "      <td>-0.59</td>\n",
       "      <td>-0.48</td>\n",
       "      <td>-1.44</td>\n",
       "      <td>-1.39</td>\n",
       "      <td>-0.62</td>\n",
       "      <td>0.49</td>\n",
       "      <td>-0.97</td>\n",
       "      <td>-0.16</td>\n",
       "      <td>-0.66</td>\n",
       "    </tr>\n",
       "  </tbody>\n",
       "</table>\n",
       "<p>147 rows × 11 columns</p>\n",
       "</div>"
      ],
      "text/plain": [
       "     攻擊距離    魔力  魔力回復  魔力提升  生命提升    生命  生命回復  移動速度  物理攻擊  物理防禦  魔法防禦\n",
       "0   -0.77 -2.69 -2.02 -1.99  0.22  0.65 -2.03  1.15  0.10  1.19  0.57\n",
       "1    1.14  0.94  0.84 -0.48  0.52 -0.80 -0.06 -0.84 -1.04 -1.37 -0.66\n",
       "2   -1.03 -0.95 -2.02 -1.99  0.98  0.52  0.79  1.15  0.49 -1.05  3.45\n",
       "3   -1.03  0.35  0.84  0.42  2.64  0.47  1.07 -0.84  0.28  2.08  0.57\n",
       "4   -1.03 -0.20 -0.23  0.42 -0.68  1.54  1.35 -0.17 -0.97  0.44  0.57\n",
       "..    ...   ...   ...   ...   ...   ...   ...   ...   ...   ...   ...\n",
       "142 -1.03 -0.95 -2.02 -1.99 -0.53  0.76  0.22  1.15  0.59  0.29  0.57\n",
       "143  1.14  1.48  0.84 -0.61  0.52 -0.53 -0.06 -1.50 -0.84 -1.28 -0.66\n",
       "144  1.14  1.24  0.84 -0.18 -0.98 -1.39 -0.62 -0.17 -1.26 -0.90 -0.66\n",
       "145  1.14  1.00  0.48 -0.48  0.52  0.11 -0.06  0.49 -0.22 -1.38 -0.66\n",
       "146  1.27  0.94 -0.59 -0.48 -1.44 -1.39 -0.62  0.49 -0.97 -0.16 -0.66\n",
       "\n",
       "[147 rows x 11 columns]"
      ]
     },
     "execution_count": 7,
     "metadata": {},
     "output_type": "execute_result"
    }
   ],
   "source": [
    "print('標準化之數據:\\n')\n",
    "a=pd.DataFrame(z_x)\n",
    "a.columns=df.columns[1:]\n",
    "a=round(a,2)\n",
    "a"
   ]
  },
  {
   "cell_type": "markdown",
   "metadata": {},
   "source": [
    "# 斜方差矩陣"
   ]
  },
  {
   "cell_type": "code",
   "execution_count": 8,
   "metadata": {},
   "outputs": [],
   "source": [
    "cov_matrix=np.cov(a.T)\n",
    "eigen_values,eigen_vectors=np.linalg.eig(cov_matrix)"
   ]
  },
  {
   "cell_type": "code",
   "execution_count": 9,
   "metadata": {},
   "outputs": [],
   "source": [
    "cov_matrix1=np.cov(a)"
   ]
  },
  {
   "cell_type": "code",
   "execution_count": 10,
   "metadata": {},
   "outputs": [
    {
     "name": "stdout",
     "output_type": "stream",
     "text": [
      "eigen vlaues:\n",
      " [4.51321632 2.20380824 1.03871813 0.84134207 0.14877761 0.18735109\n",
      " 0.25090358 0.58065751 0.3499361  0.42745376 0.52368116]\n",
      "eigen vectors:\n",
      " [[ 0.42974965  0.07116077  0.15631051  0.08236102  0.84615534  0.12741171\n",
      "  -0.08763908 -0.14162905  0.13007151  0.04617017  0.00572699]\n",
      " [ 0.283102   -0.43031672 -0.00668181 -0.35516803 -0.10520927  0.60166043\n",
      "   0.47414645 -0.00806299 -0.02833551 -0.09574074  0.02405167]\n",
      " [ 0.19059791 -0.56230785 -0.04154937 -0.08700933  0.09287985 -0.72963818\n",
      "   0.23293226 -0.15723128 -0.10351959 -0.05683589  0.06527683]\n",
      " [ 0.14273759 -0.50359551 -0.43367089  0.1634998  -0.08861923  0.19352836\n",
      "  -0.64347509 -0.04292475  0.0569983   0.20788275 -0.05951092]\n",
      " [-0.14104235 -0.32376884  0.68654907  0.30397995 -0.07644311  0.12971851\n",
      "  -0.2462953  -0.14238899 -0.17483163 -0.41385062 -0.07799023]\n",
      " [-0.31587369 -0.24325671  0.15976007  0.41779982  0.09578875  0.0712555\n",
      "   0.36415962  0.05826467  0.12186148  0.63641708 -0.26614517]\n",
      " [-0.30687466 -0.20897745  0.17522478 -0.49895712  0.18595033 -0.08762438\n",
      "  -0.19333518  0.44612721  0.50327521 -0.08107079 -0.2096962 ]\n",
      " [-0.33323711  0.01348971  0.08854843 -0.53177903  0.15551748  0.05145376\n",
      "  -0.18075771 -0.45287795 -0.46421497  0.32641547 -0.10720882]\n",
      " [-0.35032664 -0.02061078 -0.23472327  0.06975387  0.04178849  0.06701898\n",
      "   0.12627068 -0.65684713  0.53398585 -0.27424299  0.05390235]\n",
      " [-0.34191563 -0.07947743 -0.44179613  0.16352119  0.37533497  0.08078935\n",
      "   0.14064632  0.23953743 -0.40356489 -0.41578715 -0.307486  ]\n",
      " [-0.33755548 -0.15927965 -0.00541232  0.04956906  0.20016807  0.09326126\n",
      "  -0.01165268  0.191542   -0.07816709  0.06891823  0.8727835 ]]\n"
     ]
    }
   ],
   "source": [
    "print(\"eigen vlaues:\\n\",eigen_values)\n",
    "print(\"eigen vectors:\\n\",eigen_vectors)"
   ]
  },
  {
   "cell_type": "code",
   "execution_count": 11,
   "metadata": {},
   "outputs": [
    {
     "data": {
      "text/plain": [
       "<BarContainer object of 11 artists>"
      ]
     },
     "execution_count": 11,
     "metadata": {},
     "output_type": "execute_result"
    },
    {
     "data": {
      "image/png": "[encoded data removed]",
      "text/plain": [
       "<Figure size 432x288 with 1 Axes>"
      ]
     },
     "metadata": {
      "needs_background": "light"
     },
     "output_type": "display_data"
    }
   ],
   "source": [
    "tot=sum(eigen_values)# 總特徵值和\n",
    "var_exp=[(i/tot) for i in sorted(eigen_values,reverse=True)]# 計算解釋方差比，降序\n",
    "\n",
    "cum_var_exp=np.cumsum(var_exp)\n",
    "plt.step(range(len(eigen_values)),cum_var_exp,where='mid', label='累加解釋方差')\n",
    "plt.bar(range(len(eigen_values)),var_exp,color='green',alpha=0.3,align='center',label='獨立解釋方差')"
   ]
  },
  {
   "cell_type": "code",
   "execution_count": 12,
   "metadata": {},
   "outputs": [],
   "source": [
    "eigen_pairs=[(np.abs(eigen_values[i]),eigen_vectors[:,i]) for i in range(len(eigen_values))]"
   ]
  },
  {
   "cell_type": "code",
   "execution_count": 13,
   "metadata": {},
   "outputs": [
    {
     "data": {
      "text/plain": [
       "[(4.513216321594182,\n",
       "  array([ 0.42974965,  0.283102  ,  0.19059791,  0.14273759, -0.14104235,\n",
       "         -0.31587369, -0.30687466, -0.33323711, -0.35032664, -0.34191563,\n",
       "         -0.33755548])),\n",
       " (2.2038082404270187,\n",
       "  array([ 0.07116077, -0.43031672, -0.56230785, -0.50359551, -0.32376884,\n",
       "         -0.24325671, -0.20897745,  0.01348971, -0.02061078, -0.07947743,\n",
       "         -0.15927965])),\n",
       " (1.0387181279654791,\n",
       "  array([ 0.15631051, -0.00668181, -0.04154937, -0.43367089,  0.68654907,\n",
       "          0.15976007,  0.17522478,  0.08854843, -0.23472327, -0.44179613,\n",
       "         -0.00541232])),\n",
       " (0.8413420737142728,\n",
       "  array([ 0.08236102, -0.35516803, -0.08700933,  0.1634998 ,  0.30397995,\n",
       "          0.41779982, -0.49895712, -0.53177903,  0.06975387,  0.16352119,\n",
       "          0.04956906])),\n",
       " (0.14877760724892297,\n",
       "  array([ 0.84615534, -0.10520927,  0.09287985, -0.08861923, -0.07644311,\n",
       "          0.09578875,  0.18595033,  0.15551748,  0.04178849,  0.37533497,\n",
       "          0.20016807])),\n",
       " (0.18735109487122537,\n",
       "  array([ 0.12741171,  0.60166043, -0.72963818,  0.19352836,  0.12971851,\n",
       "          0.0712555 , -0.08762438,  0.05145376,  0.06701898,  0.08078935,\n",
       "          0.09326126])),\n",
       " (0.2509035750758322,\n",
       "  array([-0.08763908,  0.47414645,  0.23293226, -0.64347509, -0.2462953 ,\n",
       "          0.36415962, -0.19333518, -0.18075771,  0.12627068,  0.14064632,\n",
       "         -0.01165268])),\n",
       " (0.5806575124550721,\n",
       "  array([-0.14162905, -0.00806299, -0.15723128, -0.04292475, -0.14238899,\n",
       "          0.05826467,  0.44612721, -0.45287795, -0.65684713,  0.23953743,\n",
       "          0.191542  ])),\n",
       " (0.34993610153183585,\n",
       "  array([ 0.13007151, -0.02833551, -0.10351959,  0.0569983 , -0.17483163,\n",
       "          0.12186148,  0.50327521, -0.46421497,  0.53398585, -0.40356489,\n",
       "         -0.07816709])),\n",
       " (0.42745375506927513,\n",
       "  array([ 0.04617017, -0.09574074, -0.05683589,  0.20788275, -0.41385062,\n",
       "          0.63641708, -0.08107079,  0.32641547, -0.27424299, -0.41578715,\n",
       "          0.06891823])),\n",
       " (0.5236811589593735,\n",
       "  array([ 0.00572699,  0.02405167,  0.06527683, -0.05951092, -0.07799023,\n",
       "         -0.26614517, -0.2096962 , -0.10720882,  0.05390235, -0.307486  ,\n",
       "          0.8727835 ]))]"
      ]
     },
     "execution_count": 13,
     "metadata": {},
     "output_type": "execute_result"
    }
   ],
   "source": [
    "eigen_pairs"
   ]
  },
  {
   "cell_type": "code",
   "execution_count": 14,
   "metadata": {},
   "outputs": [
    {
     "data": {
      "text/plain": [
       "[(4.513216321594182,\n",
       "  array([ 0.42974965,  0.283102  ,  0.19059791,  0.14273759, -0.14104235,\n",
       "         -0.31587369, -0.30687466, -0.33323711, -0.35032664, -0.34191563,\n",
       "         -0.33755548])),\n",
       " (2.2038082404270187,\n",
       "  array([ 0.07116077, -0.43031672, -0.56230785, -0.50359551, -0.32376884,\n",
       "         -0.24325671, -0.20897745,  0.01348971, -0.02061078, -0.07947743,\n",
       "         -0.15927965])),\n",
       " (1.0387181279654791,\n",
       "  array([ 0.15631051, -0.00668181, -0.04154937, -0.43367089,  0.68654907,\n",
       "          0.15976007,  0.17522478,  0.08854843, -0.23472327, -0.44179613,\n",
       "         -0.00541232])),\n",
       " (0.8413420737142728,\n",
       "  array([ 0.08236102, -0.35516803, -0.08700933,  0.1634998 ,  0.30397995,\n",
       "          0.41779982, -0.49895712, -0.53177903,  0.06975387,  0.16352119,\n",
       "          0.04956906])),\n",
       " (0.5806575124550721,\n",
       "  array([-0.14162905, -0.00806299, -0.15723128, -0.04292475, -0.14238899,\n",
       "          0.05826467,  0.44612721, -0.45287795, -0.65684713,  0.23953743,\n",
       "          0.191542  ])),\n",
       " (0.5236811589593735,\n",
       "  array([ 0.00572699,  0.02405167,  0.06527683, -0.05951092, -0.07799023,\n",
       "         -0.26614517, -0.2096962 , -0.10720882,  0.05390235, -0.307486  ,\n",
       "          0.8727835 ])),\n",
       " (0.42745375506927513,\n",
       "  array([ 0.04617017, -0.09574074, -0.05683589,  0.20788275, -0.41385062,\n",
       "          0.63641708, -0.08107079,  0.32641547, -0.27424299, -0.41578715,\n",
       "          0.06891823])),\n",
       " (0.34993610153183585,\n",
       "  array([ 0.13007151, -0.02833551, -0.10351959,  0.0569983 , -0.17483163,\n",
       "          0.12186148,  0.50327521, -0.46421497,  0.53398585, -0.40356489,\n",
       "         -0.07816709])),\n",
       " (0.2509035750758322,\n",
       "  array([-0.08763908,  0.47414645,  0.23293226, -0.64347509, -0.2462953 ,\n",
       "          0.36415962, -0.19333518, -0.18075771,  0.12627068,  0.14064632,\n",
       "         -0.01165268])),\n",
       " (0.18735109487122537,\n",
       "  array([ 0.12741171,  0.60166043, -0.72963818,  0.19352836,  0.12971851,\n",
       "          0.0712555 , -0.08762438,  0.05145376,  0.06701898,  0.08078935,\n",
       "          0.09326126])),\n",
       " (0.14877760724892297,\n",
       "  array([ 0.84615534, -0.10520927,  0.09287985, -0.08861923, -0.07644311,\n",
       "          0.09578875,  0.18595033,  0.15551748,  0.04178849,  0.37533497,\n",
       "          0.20016807]))]"
      ]
     },
     "execution_count": 14,
     "metadata": {},
     "output_type": "execute_result"
    }
   ],
   "source": [
    "eigen_pairs.sort(key=lambda k:k[0],reverse=True)\n",
    "eigen_pairs"
   ]
  },
  {
   "cell_type": "code",
   "execution_count": 15,
   "metadata": {},
   "outputs": [
    {
     "data": {
      "text/plain": [
       "array([[ 0.42974965,  0.07116077],\n",
       "       [ 0.283102  , -0.43031672],\n",
       "       [ 0.19059791, -0.56230785],\n",
       "       [ 0.14273759, -0.50359551],\n",
       "       [-0.14104235, -0.32376884],\n",
       "       [-0.31587369, -0.24325671],\n",
       "       [-0.30687466, -0.20897745],\n",
       "       [-0.33323711,  0.01348971],\n",
       "       [-0.35032664, -0.02061078],\n",
       "       [-0.34191563, -0.07947743],\n",
       "       [-0.33755548, -0.15927965]])"
      ]
     },
     "execution_count": 15,
     "metadata": {},
     "output_type": "execute_result"
    }
   ],
   "source": [
    "w=np.hstack((eigen_pairs[0][1][:,np.newaxis],eigen_pairs[1][1][:,np.newaxis]))\n",
    "w"
   ]
  },
  {
   "cell_type": "code",
   "execution_count": 16,
   "metadata": {},
   "outputs": [],
   "source": [
    "lol_pca=z_x.dot(w)"
   ]
  },
  {
   "cell_type": "code",
   "execution_count": 17,
   "metadata": {},
   "outputs": [
    {
     "data": {
      "text/plain": [
       "array([[-2.39603029,  3.2667071 ],\n",
       "       [ 2.37948585, -0.29019086],\n",
       "       [-3.28414545,  1.41158504],\n",
       "       [-1.6948292 , -2.37321577],\n",
       "       [-1.23059701, -0.6127074 ],\n",
       "       [ 3.7518967 ,  0.33965652],\n",
       "       [ 2.83275361,  0.10105498],\n",
       "       [ 2.93939373,  1.18549818],\n",
       "       [ 1.99919044,  1.34963923],\n",
       "       [ 2.01532679, -1.17476195],\n",
       "       [ 1.96507114, -0.44652422],\n",
       "       [ 1.32186311, -0.41889866],\n",
       "       [-1.34058749, -1.54832605],\n",
       "       [ 1.92449577,  0.38967285],\n",
       "       [-1.34604214, -1.77392518],\n",
       "       [ 2.55803671,  0.8100386 ],\n",
       "       [-1.74082463, -0.97215597],\n",
       "       [ 2.27506024, -0.58965082],\n",
       "       [-2.43998654, -0.20186385],\n",
       "       [ 2.24509091,  0.40716693],\n",
       "       [-2.72436004, -0.80629407],\n",
       "       [-1.13091703, -1.45489338],\n",
       "       [-3.34173704,  2.71196115],\n",
       "       [ 1.62961028, -0.21208881],\n",
       "       [-1.15210191, -1.34412625],\n",
       "       [ 2.02167636, -0.76098967],\n",
       "       [-1.27804314, -0.72471904],\n",
       "       [ 2.89867938,  0.26689478],\n",
       "       [ 2.47152135, -0.08299388],\n",
       "       [-1.68037451, -0.66287409],\n",
       "       [-0.34820097, -1.39279817],\n",
       "       [-0.34369106, -2.62121202],\n",
       "       [-1.07301943, -0.10878537],\n",
       "       [-3.49063484,  2.7044354 ],\n",
       "       [ 0.38168283,  4.63018969],\n",
       "       [-0.69034607, -1.9595369 ],\n",
       "       [-0.48272081, -0.78466049],\n",
       "       [-1.89146764, -0.65939988],\n",
       "       [ 2.11017485,  0.45121971],\n",
       "       [-2.23596112, -1.7446881 ],\n",
       "       [-1.3393877 , -1.44094179],\n",
       "       [ 1.38683686, -2.3511978 ],\n",
       "       [ 3.83672019,  0.85776869],\n",
       "       [-1.553741  , -0.57516769],\n",
       "       [-2.44836965, -0.87749441],\n",
       "       [ 0.6508343 , -0.71373827],\n",
       "       [ 2.04615123, -0.48919071],\n",
       "       [ 2.01661052, -0.41398556],\n",
       "       [ 1.38855432,  0.44219967],\n",
       "       [ 1.48443061,  0.85616359],\n",
       "       [ 1.75822745, -0.42569666],\n",
       "       [ 2.60785137, -0.39729397],\n",
       "       [ 0.83506714, -1.78338683],\n",
       "       [-2.70454886,  2.49732548],\n",
       "       [ 0.23112802, -1.23848055],\n",
       "       [-1.37722913, -2.00988554],\n",
       "       [ 0.94784826,  3.23418192],\n",
       "       [-1.91539765, -0.41208432],\n",
       "       [ 0.86042188,  0.67980073],\n",
       "       [-0.44621294,  5.08643866],\n",
       "       [ 1.98037684,  0.18787182],\n",
       "       [ 1.54188155, -0.87601745],\n",
       "       [-2.9565551 ,  2.27334402],\n",
       "       [-1.74415248, -1.30683637],\n",
       "       [ 2.20753529,  0.00884478],\n",
       "       [ 1.15186442, -0.03023214],\n",
       "       [ 2.81530564,  0.33458097],\n",
       "       [ 3.22619898,  0.25807414],\n",
       "       [-1.32058107, -0.67471738],\n",
       "       [ 2.09359637,  0.05955619],\n",
       "       [-0.9310725 , -1.09882318],\n",
       "       [-2.69454709, -0.66088406],\n",
       "       [ 2.56716911,  0.14614744],\n",
       "       [-1.58396405, -0.36146238],\n",
       "       [-1.99685419,  2.68982238],\n",
       "       [ 1.54337669, -0.35985408],\n",
       "       [ 2.49620103,  1.27619185],\n",
       "       [-2.29593125, -0.79997105],\n",
       "       [-0.72481183, -1.14424589],\n",
       "       [ 2.02145844, -0.43889016],\n",
       "       [ 1.22880048, -0.2726148 ],\n",
       "       [-2.18694092, -0.29233698],\n",
       "       [-0.95486668,  0.20728875],\n",
       "       [-2.6435144 , -1.30197436],\n",
       "       [ 4.15696823,  0.11853017],\n",
       "       [-1.95887638, -1.62007504],\n",
       "       [-2.2829142 , -0.5708123 ],\n",
       "       [-1.72718566, -0.75369944],\n",
       "       [-0.96614742, -2.53492848],\n",
       "       [-1.06557891, -1.49262296],\n",
       "       [ 1.1074458 ,  1.08211956],\n",
       "       [ 0.16041374, -0.07488611],\n",
       "       [-1.17845674, -0.63177669],\n",
       "       [-2.41972314,  2.66497074],\n",
       "       [-3.37686235,  2.47058961],\n",
       "       [-3.48107339,  2.75078131],\n",
       "       [-2.68074868,  3.15073897],\n",
       "       [-2.78812273,  2.55221038],\n",
       "       [ 0.15426831, -1.74071363],\n",
       "       [-1.44791719, -1.605009  ],\n",
       "       [ 2.96092744,  1.32731811],\n",
       "       [-2.06135976, -0.63453916],\n",
       "       [-1.60018854,  1.64886698],\n",
       "       [-4.0067763 ,  1.87359344],\n",
       "       [-2.28822639, -1.27586058],\n",
       "       [-1.08091397,  0.12266472],\n",
       "       [ 1.76814449, -0.31446465],\n",
       "       [-2.09291458, -1.05031938],\n",
       "       [ 3.03575178,  1.25376374],\n",
       "       [ 3.0298893 ,  0.70905704],\n",
       "       [ 1.94672959, -0.31711435],\n",
       "       [-2.8145748 , -2.47965529],\n",
       "       [ 2.48405695, -0.90895856],\n",
       "       [-1.34670643, -2.31876173],\n",
       "       [ 1.83016132, -0.47496596],\n",
       "       [-2.8120314 , -2.43503877],\n",
       "       [-0.72234517, -1.63388213],\n",
       "       [ 1.78323517,  0.91983318],\n",
       "       [ 0.81159867, -0.78020399],\n",
       "       [ 1.55207333,  0.92679824],\n",
       "       [-2.48773581, -1.24872535],\n",
       "       [-4.02485585,  1.56730759],\n",
       "       [ 2.09621111,  0.19260004],\n",
       "       [ 1.4984749 ,  0.60302148],\n",
       "       [-2.2022113 , -0.5314407 ],\n",
       "       [-0.42501631, -1.39638805],\n",
       "       [ 2.39638318,  0.26314101],\n",
       "       [ 1.9024087 ,  1.43309499],\n",
       "       [ 2.30302846, -0.54493002],\n",
       "       [ 2.12303915, -0.01653749],\n",
       "       [-1.60175267, -1.16722927],\n",
       "       [ 1.71360831, -0.37161225],\n",
       "       [-0.110786  ,  3.24099592],\n",
       "       [-2.22518227, -0.49506805],\n",
       "       [-0.50484241,  0.27773172],\n",
       "       [ 2.26705678, -0.0977621 ],\n",
       "       [ 1.9823705 , -0.24346343],\n",
       "       [-2.09196215, -0.42946432],\n",
       "       [-1.38183489,  3.29139766],\n",
       "       [-1.76851861, -1.77560483],\n",
       "       [ 3.56593017,  1.68461473],\n",
       "       [-3.16743975,  2.26491121],\n",
       "       [-2.49677109,  2.30866665],\n",
       "       [ 2.55210448, -0.54686826],\n",
       "       [ 2.77898055,  0.1574524 ],\n",
       "       [ 1.317891  , -0.33527682],\n",
       "       [ 1.91924157,  1.34025154]])"
      ]
     },
     "execution_count": 17,
     "metadata": {},
     "output_type": "execute_result"
    }
   ],
   "source": [
    "lol_pca"
   ]
  },
  {
   "cell_type": "code",
   "execution_count": 18,
   "metadata": {},
   "outputs": [
    {
     "name": "stdout",
     "output_type": "stream",
     "text": [
      "刺客\n",
      "坦克\n",
      "射手\n",
      "法師\n",
      "輔助\n",
      "鬥士\n"
     ]
    },
    {
     "data": {
      "image/png": "[encoded data removed]",
      "text/plain": [
       "<Figure size 432x288 with 1 Axes>"
      ]
     },
     "metadata": {
      "needs_background": "light"
     },
     "output_type": "display_data"
    }
   ],
   "source": [
    "color = ['red', 'green', 'blue','black','pink','yellow']\n",
    "marker = ['s', 'x', 'o','*','v','p']\n",
    "for l, c, m in zip(np.unique(df.iloc[:,0]), color, marker):\n",
    "    print(l)\n",
    "    plt.scatter(lol_pca[df.iloc[:,0] == l, 0],\n",
    "                lol_pca[df.iloc[:,0] == l, 1],\n",
    "                c=c, label=l, marker=m)\n",
    "plt.title('Result')\n",
    "plt.xlim(-6,6)\n",
    "plt.xlabel('PC1')\n",
    "plt.ylabel('PC2')\n",
    "plt.legend(loc='lower left')\n",
    "\n",
    "plt.show()"
   ]
  },
  {
   "cell_type": "code",
   "execution_count": 19,
   "metadata": {},
   "outputs": [
    {
     "data": {
      "text/html": [
       "<style  type=\"text/css\" >\n",
       "#T_6483bca0_bd51_11eb_8b01_1e00d90a4634row0_col0,#T_6483bca0_bd51_11eb_8b01_1e00d90a4634row0_col1,#T_6483bca0_bd51_11eb_8b01_1e00d90a4634row0_col2,#T_6483bca0_bd51_11eb_8b01_1e00d90a4634row0_col3,#T_6483bca0_bd51_11eb_8b01_1e00d90a4634row0_col4,#T_6483bca0_bd51_11eb_8b01_1e00d90a4634row1_col5,#T_6483bca0_bd51_11eb_8b01_1e00d90a4634row1_col6,#T_6483bca0_bd51_11eb_8b01_1e00d90a4634row1_col7,#T_6483bca0_bd51_11eb_8b01_1e00d90a4634row1_col8,#T_6483bca0_bd51_11eb_8b01_1e00d90a4634row1_col9,#T_6483bca0_bd51_11eb_8b01_1e00d90a4634row1_col10{\n",
       "            background-color:  #ff0000;\n",
       "            color:  #f1f1f1;\n",
       "        }#T_6483bca0_bd51_11eb_8b01_1e00d90a4634row0_col5,#T_6483bca0_bd51_11eb_8b01_1e00d90a4634row0_col6,#T_6483bca0_bd51_11eb_8b01_1e00d90a4634row0_col7,#T_6483bca0_bd51_11eb_8b01_1e00d90a4634row0_col8,#T_6483bca0_bd51_11eb_8b01_1e00d90a4634row0_col9,#T_6483bca0_bd51_11eb_8b01_1e00d90a4634row0_col10,#T_6483bca0_bd51_11eb_8b01_1e00d90a4634row1_col0,#T_6483bca0_bd51_11eb_8b01_1e00d90a4634row1_col1,#T_6483bca0_bd51_11eb_8b01_1e00d90a4634row1_col2,#T_6483bca0_bd51_11eb_8b01_1e00d90a4634row1_col3,#T_6483bca0_bd51_11eb_8b01_1e00d90a4634row1_col4{\n",
       "            background-color:  #54ff00;\n",
       "            color:  #000000;\n",
       "        }</style><table id=\"T_6483bca0_bd51_11eb_8b01_1e00d90a4634\" ><thead>    <tr>        <th class=\"blank level0\" ></th>        <th class=\"col_heading level0 col0\" >攻擊距離</th>        <th class=\"col_heading level0 col1\" >魔力</th>        <th class=\"col_heading level0 col2\" >魔力回復</th>        <th class=\"col_heading level0 col3\" >魔力提升</th>        <th class=\"col_heading level0 col4\" >生命提升</th>        <th class=\"col_heading level0 col5\" >生命</th>        <th class=\"col_heading level0 col6\" >生命回復</th>        <th class=\"col_heading level0 col7\" >移動速度</th>        <th class=\"col_heading level0 col8\" >物理攻擊</th>        <th class=\"col_heading level0 col9\" >物理防禦</th>        <th class=\"col_heading level0 col10\" >魔法防禦</th>    </tr></thead><tbody>\n",
       "                <tr>\n",
       "                        <th id=\"T_6483bca0_bd51_11eb_8b01_1e00d90a4634level0_row0\" class=\"row_heading level0 row0\" >first</th>\n",
       "                        <td id=\"T_6483bca0_bd51_11eb_8b01_1e00d90a4634row0_col0\" class=\"data row0 col0\" >0.43</td>\n",
       "                        <td id=\"T_6483bca0_bd51_11eb_8b01_1e00d90a4634row0_col1\" class=\"data row0 col1\" >0.28</td>\n",
       "                        <td id=\"T_6483bca0_bd51_11eb_8b01_1e00d90a4634row0_col2\" class=\"data row0 col2\" >0.19</td>\n",
       "                        <td id=\"T_6483bca0_bd51_11eb_8b01_1e00d90a4634row0_col3\" class=\"data row0 col3\" >0.14</td>\n",
       "                        <td id=\"T_6483bca0_bd51_11eb_8b01_1e00d90a4634row0_col4\" class=\"data row0 col4\" >-0.14</td>\n",
       "                        <td id=\"T_6483bca0_bd51_11eb_8b01_1e00d90a4634row0_col5\" class=\"data row0 col5\" >-0.32</td>\n",
       "                        <td id=\"T_6483bca0_bd51_11eb_8b01_1e00d90a4634row0_col6\" class=\"data row0 col6\" >-0.31</td>\n",
       "                        <td id=\"T_6483bca0_bd51_11eb_8b01_1e00d90a4634row0_col7\" class=\"data row0 col7\" >-0.33</td>\n",
       "                        <td id=\"T_6483bca0_bd51_11eb_8b01_1e00d90a4634row0_col8\" class=\"data row0 col8\" >-0.35</td>\n",
       "                        <td id=\"T_6483bca0_bd51_11eb_8b01_1e00d90a4634row0_col9\" class=\"data row0 col9\" >-0.34</td>\n",
       "                        <td id=\"T_6483bca0_bd51_11eb_8b01_1e00d90a4634row0_col10\" class=\"data row0 col10\" >-0.34</td>\n",
       "            </tr>\n",
       "            <tr>\n",
       "                        <th id=\"T_6483bca0_bd51_11eb_8b01_1e00d90a4634level0_row1\" class=\"row_heading level0 row1\" >second</th>\n",
       "                        <td id=\"T_6483bca0_bd51_11eb_8b01_1e00d90a4634row1_col0\" class=\"data row1 col0\" >0.071</td>\n",
       "                        <td id=\"T_6483bca0_bd51_11eb_8b01_1e00d90a4634row1_col1\" class=\"data row1 col1\" >-0.43</td>\n",
       "                        <td id=\"T_6483bca0_bd51_11eb_8b01_1e00d90a4634row1_col2\" class=\"data row1 col2\" >-0.56</td>\n",
       "                        <td id=\"T_6483bca0_bd51_11eb_8b01_1e00d90a4634row1_col3\" class=\"data row1 col3\" >-0.5</td>\n",
       "                        <td id=\"T_6483bca0_bd51_11eb_8b01_1e00d90a4634row1_col4\" class=\"data row1 col4\" >-0.32</td>\n",
       "                        <td id=\"T_6483bca0_bd51_11eb_8b01_1e00d90a4634row1_col5\" class=\"data row1 col5\" >-0.24</td>\n",
       "                        <td id=\"T_6483bca0_bd51_11eb_8b01_1e00d90a4634row1_col6\" class=\"data row1 col6\" >-0.21</td>\n",
       "                        <td id=\"T_6483bca0_bd51_11eb_8b01_1e00d90a4634row1_col7\" class=\"data row1 col7\" >0.013</td>\n",
       "                        <td id=\"T_6483bca0_bd51_11eb_8b01_1e00d90a4634row1_col8\" class=\"data row1 col8\" >-0.021</td>\n",
       "                        <td id=\"T_6483bca0_bd51_11eb_8b01_1e00d90a4634row1_col9\" class=\"data row1 col9\" >-0.079</td>\n",
       "                        <td id=\"T_6483bca0_bd51_11eb_8b01_1e00d90a4634row1_col10\" class=\"data row1 col10\" >-0.16</td>\n",
       "            </tr>\n",
       "    </tbody></table>"
      ],
      "text/plain": [
       "<pandas.io.formats.style.Styler at 0x7fcf30147c70>"
      ]
     },
     "execution_count": 19,
     "metadata": {},
     "output_type": "execute_result"
    }
   ],
   "source": [
    "dfw=pd.DataFrame(w.T)\n",
    "dfw.index=['first','second']\n",
    "dfw.columns=df.iloc[:,1:].columns\n",
    "dfw.style.background_gradient(cmap='prism_r').format(\"{:.2}\")"
   ]
  },
  {
   "cell_type": "code",
   "execution_count": 20,
   "metadata": {},
   "outputs": [
    {
     "name": "stdout",
     "output_type": "stream",
     "text": [
      "刺客\n",
      "坦克\n",
      "射手\n",
      "法師\n",
      "輔助\n",
      "鬥士\n"
     ]
    }
   ],
   "source": [
    "for l, c, m in zip(np.unique(df.iloc[:,0]), color, marker):\n",
    "    print(l)"
   ]
  },
  {
   "cell_type": "code",
   "execution_count": 21,
   "metadata": {},
   "outputs": [
    {
     "data": {
      "text/plain": [
       "array([[ 4.29749648,  0.71160768],\n",
       "       [ 2.83101999, -4.30316722],\n",
       "       [ 1.90597913, -5.62307847],\n",
       "       [ 1.42737592, -5.0359551 ],\n",
       "       [-1.41042353, -3.23768843],\n",
       "       [-3.15873686, -2.43256714],\n",
       "       [-3.06874661, -2.08977445],\n",
       "       [-3.33237109,  0.13489715],\n",
       "       [-3.50326644, -0.20610777],\n",
       "       [-3.41915625, -0.7947743 ],\n",
       "       [-3.3755548 , -1.59279649]])"
      ]
     },
     "execution_count": 21,
     "metadata": {},
     "output_type": "execute_result"
    }
   ],
   "source": [
    "dfw.values.T*10"
   ]
  },
  {
   "cell_type": "code",
   "execution_count": 22,
   "metadata": {},
   "outputs": [
    {
     "name": "stdout",
     "output_type": "stream",
     "text": [
      "4.297496482223099 0.711607675487062\n",
      "2.831019985135714 -4.30316722321906\n",
      "1.9059791294697124 -5.623078474720784\n",
      "1.427375917978094 -5.0359551034651755\n",
      "-1.4104235302295567 -3.237688426201877\n",
      "-3.15873686132776 -2.43256714312618\n",
      "-3.0687466067078555 -2.08977445132668\n",
      "-3.3323710862804967 0.13489714705382083\n",
      "-3.5032664437141623 -0.20610777356867196\n",
      "-3.419156253720455 -0.794774304749303\n",
      "-3.3755548027309192 -1.5927964935047698\n"
     ]
    }
   ],
   "source": [
    "for x in dfw:\n",
    "    b=dfw[x]\n",
    "    print(b[0]*10,b[1]*10)"
   ]
  },
  {
   "cell_type": "code",
   "execution_count": null,
   "metadata": {},
   "outputs": [],
   "source": []
  },
  {
   "cell_type": "code",
   "execution_count": null,
   "metadata": {},
   "outputs": [],
   "source": []
  }
 ],
 "metadata": {
  "kernelspec": {
   "display_name": "Python 3",
   "language": "python",
   "name": "python3"
  },
  "language_info": {
   "codemirror_mode": {
    "name": "ipython",
    "version": 3
   },
   "file_extension": ".py",
   "mimetype": "text/x-python",
   "name": "python",
   "nbconvert_exporter": "python",
   "pygments_lexer": "ipython3",
   "version": "3.8.5"
  }
 },
 "nbformat": 4,
 "nbformat_minor": 4
}
