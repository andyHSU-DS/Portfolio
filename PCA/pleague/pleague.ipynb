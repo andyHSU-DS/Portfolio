{
 "cells": [
  {
   "cell_type": "code",
   "execution_count": 1,
   "metadata": {},
   "outputs": [],
   "source": [
    "import pandas as pd\n",
    "import numpy as np\n",
    "import matplotlib.pyplot as plt\n",
    "pd.set_option('display.max_columns',None)"
   ]
  },
  {
   "cell_type": "code",
   "execution_count": 2,
   "metadata": {},
   "outputs": [],
   "source": [
    "team=pd.read_csv(r'/Users/andyhsu/Desktop/python基礎/requests/pleauge/pleaguedata.csv')"
   ]
  },
  {
   "cell_type": "code",
   "execution_count": 3,
   "metadata": {},
   "outputs": [
    {
     "data": {
      "text/html": [
       "<div>\n",
       "<style scoped>\n",
       "    .dataframe tbody tr th:only-of-type {\n",
       "        vertical-align: middle;\n",
       "    }\n",
       "\n",
       "    .dataframe tbody tr th {\n",
       "        vertical-align: top;\n",
       "    }\n",
       "\n",
       "    .dataframe thead th {\n",
       "        text-align: right;\n",
       "    }\n",
       "</style>\n",
       "<table border=\"1\" class=\"dataframe\">\n",
       "  <thead>\n",
       "    <tr style=\"text-align: right;\">\n",
       "      <th></th>\n",
       "      <th>球隊</th>\n",
       "      <th>出賽次數</th>\n",
       "      <th>時間 (分)</th>\n",
       "      <th>兩分命中</th>\n",
       "      <th>兩分出手</th>\n",
       "      <th>兩分%</th>\n",
       "      <th>三分命中</th>\n",
       "      <th>三分出手</th>\n",
       "      <th>三分%</th>\n",
       "      <th>罰球命中</th>\n",
       "      <th>罰球出手</th>\n",
       "      <th>罰球%</th>\n",
       "      <th>得分</th>\n",
       "      <th>攻板</th>\n",
       "      <th>防板</th>\n",
       "      <th>籃板</th>\n",
       "      <th>助攻</th>\n",
       "      <th>抄截</th>\n",
       "      <th>阻攻</th>\n",
       "      <th>失誤</th>\n",
       "      <th>犯規</th>\n",
       "    </tr>\n",
       "  </thead>\n",
       "  <tbody>\n",
       "    <tr>\n",
       "      <th>0</th>\n",
       "      <td>臺北富邦勇士</td>\n",
       "      <td>24</td>\n",
       "      <td>240:00</td>\n",
       "      <td>28.04</td>\n",
       "      <td>55.83</td>\n",
       "      <td>50.22%</td>\n",
       "      <td>9.83</td>\n",
       "      <td>30.92</td>\n",
       "      <td>31.81%</td>\n",
       "      <td>16.17</td>\n",
       "      <td>23.63</td>\n",
       "      <td>68.43%</td>\n",
       "      <td>101.75</td>\n",
       "      <td>15.21</td>\n",
       "      <td>38.42</td>\n",
       "      <td>53.63</td>\n",
       "      <td>22.67</td>\n",
       "      <td>9.92</td>\n",
       "      <td>3.79</td>\n",
       "      <td>16.83</td>\n",
       "      <td>17.38</td>\n",
       "    </tr>\n",
       "    <tr>\n",
       "      <th>1</th>\n",
       "      <td>桃園領航猿</td>\n",
       "      <td>24</td>\n",
       "      <td>240:00</td>\n",
       "      <td>24.88</td>\n",
       "      <td>51.38</td>\n",
       "      <td>48.42%</td>\n",
       "      <td>10.71</td>\n",
       "      <td>33.21</td>\n",
       "      <td>32.25%</td>\n",
       "      <td>13.50</td>\n",
       "      <td>20.58</td>\n",
       "      <td>65.59%</td>\n",
       "      <td>95.38</td>\n",
       "      <td>12.71</td>\n",
       "      <td>35.96</td>\n",
       "      <td>48.67</td>\n",
       "      <td>22.54</td>\n",
       "      <td>8.96</td>\n",
       "      <td>4.50</td>\n",
       "      <td>18.58</td>\n",
       "      <td>20.33</td>\n",
       "    </tr>\n",
       "    <tr>\n",
       "      <th>2</th>\n",
       "      <td>福爾摩沙台新夢想家</td>\n",
       "      <td>24</td>\n",
       "      <td>240:00</td>\n",
       "      <td>19.96</td>\n",
       "      <td>43.29</td>\n",
       "      <td>46.1%</td>\n",
       "      <td>13.63</td>\n",
       "      <td>42.63</td>\n",
       "      <td>31.96%</td>\n",
       "      <td>15.13</td>\n",
       "      <td>21.00</td>\n",
       "      <td>72.02%</td>\n",
       "      <td>95.92</td>\n",
       "      <td>10.17</td>\n",
       "      <td>33.13</td>\n",
       "      <td>43.29</td>\n",
       "      <td>16.92</td>\n",
       "      <td>9.75</td>\n",
       "      <td>2.71</td>\n",
       "      <td>12.04</td>\n",
       "      <td>21.33</td>\n",
       "    </tr>\n",
       "    <tr>\n",
       "      <th>3</th>\n",
       "      <td>新竹街口攻城獅</td>\n",
       "      <td>24</td>\n",
       "      <td>240:00</td>\n",
       "      <td>26.17</td>\n",
       "      <td>56.88</td>\n",
       "      <td>46.01%</td>\n",
       "      <td>8.42</td>\n",
       "      <td>28.50</td>\n",
       "      <td>29.53%</td>\n",
       "      <td>17.42</td>\n",
       "      <td>26.46</td>\n",
       "      <td>65.83%</td>\n",
       "      <td>95.00</td>\n",
       "      <td>13.46</td>\n",
       "      <td>35.00</td>\n",
       "      <td>48.46</td>\n",
       "      <td>22.21</td>\n",
       "      <td>10.79</td>\n",
       "      <td>4.63</td>\n",
       "      <td>15.63</td>\n",
       "      <td>21.96</td>\n",
       "    </tr>\n",
       "  </tbody>\n",
       "</table>\n",
       "</div>"
      ],
      "text/plain": [
       "          球隊  出賽次數  時間 (分)   兩分命中   兩分出手     兩分%   三分命中   三分出手     三分%   罰球命中  \\\n",
       "0     臺北富邦勇士    24  240:00  28.04  55.83  50.22%   9.83  30.92  31.81%  16.17   \n",
       "1      桃園領航猿    24  240:00  24.88  51.38  48.42%  10.71  33.21  32.25%  13.50   \n",
       "2  福爾摩沙台新夢想家    24  240:00  19.96  43.29   46.1%  13.63  42.63  31.96%  15.13   \n",
       "3    新竹街口攻城獅    24  240:00  26.17  56.88  46.01%   8.42  28.50  29.53%  17.42   \n",
       "\n",
       "    罰球出手     罰球%      得分     攻板     防板     籃板     助攻     抄截    阻攻     失誤  \\\n",
       "0  23.63  68.43%  101.75  15.21  38.42  53.63  22.67   9.92  3.79  16.83   \n",
       "1  20.58  65.59%   95.38  12.71  35.96  48.67  22.54   8.96  4.50  18.58   \n",
       "2  21.00  72.02%   95.92  10.17  33.13  43.29  16.92   9.75  2.71  12.04   \n",
       "3  26.46  65.83%   95.00  13.46  35.00  48.46  22.21  10.79  4.63  15.63   \n",
       "\n",
       "      犯規  \n",
       "0  17.38  \n",
       "1  20.33  \n",
       "2  21.33  \n",
       "3  21.96  "
      ]
     },
     "execution_count": 3,
     "metadata": {},
     "output_type": "execute_result"
    }
   ],
   "source": [
    "team"
   ]
  },
  {
   "cell_type": "code",
   "execution_count": 4,
   "metadata": {},
   "outputs": [],
   "source": [
    "team=team.iloc[:,[0,5,8,11,12,15,16,17,18,19,20]]"
   ]
  },
  {
   "cell_type": "code",
   "execution_count": 5,
   "metadata": {},
   "outputs": [
    {
     "data": {
      "text/html": [
       "<div>\n",
       "<style scoped>\n",
       "    .dataframe tbody tr th:only-of-type {\n",
       "        vertical-align: middle;\n",
       "    }\n",
       "\n",
       "    .dataframe tbody tr th {\n",
       "        vertical-align: top;\n",
       "    }\n",
       "\n",
       "    .dataframe thead th {\n",
       "        text-align: right;\n",
       "    }\n",
       "</style>\n",
       "<table border=\"1\" class=\"dataframe\">\n",
       "  <thead>\n",
       "    <tr style=\"text-align: right;\">\n",
       "      <th></th>\n",
       "      <th>球隊</th>\n",
       "      <th>兩分%</th>\n",
       "      <th>三分%</th>\n",
       "      <th>罰球%</th>\n",
       "      <th>得分</th>\n",
       "      <th>籃板</th>\n",
       "      <th>助攻</th>\n",
       "      <th>抄截</th>\n",
       "      <th>阻攻</th>\n",
       "      <th>失誤</th>\n",
       "      <th>犯規</th>\n",
       "    </tr>\n",
       "  </thead>\n",
       "  <tbody>\n",
       "    <tr>\n",
       "      <th>0</th>\n",
       "      <td>臺北富邦勇士</td>\n",
       "      <td>50.22%</td>\n",
       "      <td>31.81%</td>\n",
       "      <td>68.43%</td>\n",
       "      <td>101.75</td>\n",
       "      <td>53.63</td>\n",
       "      <td>22.67</td>\n",
       "      <td>9.92</td>\n",
       "      <td>3.79</td>\n",
       "      <td>16.83</td>\n",
       "      <td>17.38</td>\n",
       "    </tr>\n",
       "    <tr>\n",
       "      <th>1</th>\n",
       "      <td>桃園領航猿</td>\n",
       "      <td>48.42%</td>\n",
       "      <td>32.25%</td>\n",
       "      <td>65.59%</td>\n",
       "      <td>95.38</td>\n",
       "      <td>48.67</td>\n",
       "      <td>22.54</td>\n",
       "      <td>8.96</td>\n",
       "      <td>4.50</td>\n",
       "      <td>18.58</td>\n",
       "      <td>20.33</td>\n",
       "    </tr>\n",
       "    <tr>\n",
       "      <th>2</th>\n",
       "      <td>福爾摩沙台新夢想家</td>\n",
       "      <td>46.1%</td>\n",
       "      <td>31.96%</td>\n",
       "      <td>72.02%</td>\n",
       "      <td>95.92</td>\n",
       "      <td>43.29</td>\n",
       "      <td>16.92</td>\n",
       "      <td>9.75</td>\n",
       "      <td>2.71</td>\n",
       "      <td>12.04</td>\n",
       "      <td>21.33</td>\n",
       "    </tr>\n",
       "    <tr>\n",
       "      <th>3</th>\n",
       "      <td>新竹街口攻城獅</td>\n",
       "      <td>46.01%</td>\n",
       "      <td>29.53%</td>\n",
       "      <td>65.83%</td>\n",
       "      <td>95.00</td>\n",
       "      <td>48.46</td>\n",
       "      <td>22.21</td>\n",
       "      <td>10.79</td>\n",
       "      <td>4.63</td>\n",
       "      <td>15.63</td>\n",
       "      <td>21.96</td>\n",
       "    </tr>\n",
       "  </tbody>\n",
       "</table>\n",
       "</div>"
      ],
      "text/plain": [
       "          球隊     兩分%     三分%     罰球%      得分     籃板     助攻     抄截    阻攻  \\\n",
       "0     臺北富邦勇士  50.22%  31.81%  68.43%  101.75  53.63  22.67   9.92  3.79   \n",
       "1      桃園領航猿  48.42%  32.25%  65.59%   95.38  48.67  22.54   8.96  4.50   \n",
       "2  福爾摩沙台新夢想家   46.1%  31.96%  72.02%   95.92  43.29  16.92   9.75  2.71   \n",
       "3    新竹街口攻城獅  46.01%  29.53%  65.83%   95.00  48.46  22.21  10.79  4.63   \n",
       "\n",
       "      失誤     犯規  \n",
       "0  16.83  17.38  \n",
       "1  18.58  20.33  \n",
       "2  12.04  21.33  \n",
       "3  15.63  21.96  "
      ]
     },
     "execution_count": 5,
     "metadata": {},
     "output_type": "execute_result"
    }
   ],
   "source": [
    "team"
   ]
  },
  {
   "cell_type": "code",
   "execution_count": 6,
   "metadata": {},
   "outputs": [
    {
     "name": "stdout",
     "output_type": "stream",
     "text": [
      "<class 'pandas.core.frame.DataFrame'>\n",
      "RangeIndex: 4 entries, 0 to 3\n",
      "Data columns (total 11 columns):\n",
      " #   Column  Non-Null Count  Dtype  \n",
      "---  ------  --------------  -----  \n",
      " 0   球隊      4 non-null      object \n",
      " 1   兩分%     4 non-null      object \n",
      " 2   三分%     4 non-null      object \n",
      " 3   罰球%     4 non-null      object \n",
      " 4   得分      4 non-null      float64\n",
      " 5   籃板      4 non-null      float64\n",
      " 6   助攻      4 non-null      float64\n",
      " 7   抄截      4 non-null      float64\n",
      " 8   阻攻      4 non-null      float64\n",
      " 9   失誤      4 non-null      float64\n",
      " 10  犯規      4 non-null      float64\n",
      "dtypes: float64(7), object(4)\n",
      "memory usage: 480.0+ bytes\n"
     ]
    }
   ],
   "source": [
    "team.info()"
   ]
  },
  {
   "cell_type": "code",
   "execution_count": 7,
   "metadata": {},
   "outputs": [
    {
     "name": "stderr",
     "output_type": "stream",
     "text": [
      "<ipython-input-7-22315a49140d>:2: SettingWithCopyWarning: \n",
      "A value is trying to be set on a copy of a slice from a DataFrame.\n",
      "Try using .loc[row_indexer,col_indexer] = value instead\n",
      "\n",
      "See the caveats in the documentation: https://pandas.pydata.org/pandas-docs/stable/user_guide/indexing.html#returning-a-view-versus-a-copy\n",
      "  team[x]=team[x].str.replace('%','')\n",
      "<ipython-input-7-22315a49140d>:3: SettingWithCopyWarning: \n",
      "A value is trying to be set on a copy of a slice from a DataFrame.\n",
      "Try using .loc[row_indexer,col_indexer] = value instead\n",
      "\n",
      "See the caveats in the documentation: https://pandas.pydata.org/pandas-docs/stable/user_guide/indexing.html#returning-a-view-versus-a-copy\n",
      "  team[x]=team[x].astype('float64')\n"
     ]
    }
   ],
   "source": [
    "for x in ['兩分%','三分%','罰球%']:\n",
    "    team[x]=team[x].str.replace('%','')\n",
    "    team[x]=team[x].astype('float64')"
   ]
  },
  {
   "cell_type": "code",
   "execution_count": 8,
   "metadata": {},
   "outputs": [],
   "source": [
    "teamname=team.iloc[:,0]\n",
    "teamdata=team.drop(columns='球隊')"
   ]
  },
  {
   "cell_type": "code",
   "execution_count": 9,
   "metadata": {},
   "outputs": [
    {
     "data": {
      "text/html": [
       "<div>\n",
       "<style scoped>\n",
       "    .dataframe tbody tr th:only-of-type {\n",
       "        vertical-align: middle;\n",
       "    }\n",
       "\n",
       "    .dataframe tbody tr th {\n",
       "        vertical-align: top;\n",
       "    }\n",
       "\n",
       "    .dataframe thead th {\n",
       "        text-align: right;\n",
       "    }\n",
       "</style>\n",
       "<table border=\"1\" class=\"dataframe\">\n",
       "  <thead>\n",
       "    <tr style=\"text-align: right;\">\n",
       "      <th></th>\n",
       "      <th>兩分%</th>\n",
       "      <th>三分%</th>\n",
       "      <th>罰球%</th>\n",
       "      <th>得分</th>\n",
       "      <th>籃板</th>\n",
       "      <th>助攻</th>\n",
       "      <th>抄截</th>\n",
       "      <th>阻攻</th>\n",
       "      <th>失誤</th>\n",
       "      <th>犯規</th>\n",
       "    </tr>\n",
       "  </thead>\n",
       "  <tbody>\n",
       "    <tr>\n",
       "      <th>0</th>\n",
       "      <td>50.22</td>\n",
       "      <td>31.81</td>\n",
       "      <td>68.43</td>\n",
       "      <td>101.75</td>\n",
       "      <td>53.63</td>\n",
       "      <td>22.67</td>\n",
       "      <td>9.92</td>\n",
       "      <td>3.79</td>\n",
       "      <td>16.83</td>\n",
       "      <td>17.38</td>\n",
       "    </tr>\n",
       "    <tr>\n",
       "      <th>1</th>\n",
       "      <td>48.42</td>\n",
       "      <td>32.25</td>\n",
       "      <td>65.59</td>\n",
       "      <td>95.38</td>\n",
       "      <td>48.67</td>\n",
       "      <td>22.54</td>\n",
       "      <td>8.96</td>\n",
       "      <td>4.50</td>\n",
       "      <td>18.58</td>\n",
       "      <td>20.33</td>\n",
       "    </tr>\n",
       "    <tr>\n",
       "      <th>2</th>\n",
       "      <td>46.10</td>\n",
       "      <td>31.96</td>\n",
       "      <td>72.02</td>\n",
       "      <td>95.92</td>\n",
       "      <td>43.29</td>\n",
       "      <td>16.92</td>\n",
       "      <td>9.75</td>\n",
       "      <td>2.71</td>\n",
       "      <td>12.04</td>\n",
       "      <td>21.33</td>\n",
       "    </tr>\n",
       "    <tr>\n",
       "      <th>3</th>\n",
       "      <td>46.01</td>\n",
       "      <td>29.53</td>\n",
       "      <td>65.83</td>\n",
       "      <td>95.00</td>\n",
       "      <td>48.46</td>\n",
       "      <td>22.21</td>\n",
       "      <td>10.79</td>\n",
       "      <td>4.63</td>\n",
       "      <td>15.63</td>\n",
       "      <td>21.96</td>\n",
       "    </tr>\n",
       "  </tbody>\n",
       "</table>\n",
       "</div>"
      ],
      "text/plain": [
       "     兩分%    三分%    罰球%      得分     籃板     助攻     抄截    阻攻     失誤     犯規\n",
       "0  50.22  31.81  68.43  101.75  53.63  22.67   9.92  3.79  16.83  17.38\n",
       "1  48.42  32.25  65.59   95.38  48.67  22.54   8.96  4.50  18.58  20.33\n",
       "2  46.10  31.96  72.02   95.92  43.29  16.92   9.75  2.71  12.04  21.33\n",
       "3  46.01  29.53  65.83   95.00  48.46  22.21  10.79  4.63  15.63  21.96"
      ]
     },
     "execution_count": 9,
     "metadata": {},
     "output_type": "execute_result"
    }
   ],
   "source": [
    "teamdata"
   ]
  },
  {
   "cell_type": "code",
   "execution_count": 10,
   "metadata": {},
   "outputs": [],
   "source": [
    "from sklearn.preprocessing import StandardScaler\n",
    "sc=StandardScaler()\n",
    "teamdata=sc.fit_transform(teamdata)"
   ]
  },
  {
   "cell_type": "code",
   "execution_count": 11,
   "metadata": {},
   "outputs": [
    {
     "data": {
      "text/plain": [
       "array([[ 1.44512257,  0.38974974,  0.17848606,  1.71981104,  1.39941974,\n",
       "         0.65753909,  0.09998521, -0.15425597,  0.44251062, -1.63441915],\n",
       "       [ 0.41798708,  0.79564296, -0.9175148 , -0.59263146,  0.04306959,\n",
       "         0.60360844, -1.37671944,  0.77784394,  1.17307061,  0.04555872],\n",
       "       [-0.90587644,  0.52812243,  1.56392376, -0.39660022, -1.4281328 ,\n",
       "        -1.7278551 , -0.16151457, -1.5720981 , -1.55713644,  0.61504275],\n",
       "       [-0.95723321, -1.71351513, -0.82489501, -0.73057936, -0.01435653,\n",
       "         0.46670756,  1.4382488 ,  0.94851013, -0.0584448 ,  0.97381768]])"
      ]
     },
     "execution_count": 11,
     "metadata": {},
     "output_type": "execute_result"
    }
   ],
   "source": [
    "teamdata"
   ]
  },
  {
   "cell_type": "code",
   "execution_count": 12,
   "metadata": {},
   "outputs": [],
   "source": [
    "cov=np.cov(teamdata.T)"
   ]
  },
  {
   "cell_type": "code",
   "execution_count": 13,
   "metadata": {},
   "outputs": [
    {
     "data": {
      "text/plain": [
       "array([[ 1.33333333e+00,  6.85874854e-01, -2.50893297e-01,\n",
       "         1.09874370e+00,  1.11593000e+00,  7.73666789e-01,\n",
       "        -5.53795776e-01,  2.06130388e-01,  8.65442990e-01,\n",
       "        -1.27740547e+00],\n",
       "       [ 6.85874854e-01,  1.33333333e+00,  5.26321334e-01,\n",
       "         4.13726059e-01, -4.99791132e-02, -3.25232332e-01,\n",
       "        -1.20205616e+00, -6.32260630e-01,  1.27867049e-01,\n",
       "        -6.48199809e-01],\n",
       "       [-2.50893297e-01,  5.26321334e-01,  1.33333333e+00,\n",
       "         2.77703060e-01, -6.70462754e-01, -1.17455884e+00,\n",
       "        -5.26647684e-02, -1.32742624e+00, -1.12811984e+00,\n",
       "        -5.83130708e-02],\n",
       "       [ 1.09874370e+00,  4.13726059e-01,  2.77703060e-01,\n",
       "         1.33333333e+00,  9.86033167e-01,  3.72475484e-01,\n",
       "         3.81580809e-04, -2.65244459e-01,  2.42031778e-01,\n",
       "        -1.26442294e+00],\n",
       "       [ 1.11593000e+00, -4.99791132e-02, -6.70462754e-01,\n",
       "         9.86033167e-01,  1.33333333e+00,  1.13569220e+00,\n",
       "         9.68808452e-02,  6.83060036e-01,  9.64806151e-01,\n",
       "        -1.05920653e+00],\n",
       "       [ 7.73666789e-01, -3.25232332e-01, -1.17455884e+00,\n",
       "         3.72475484e-01,  1.13569220e+00,  1.33333333e+00,\n",
       "         6.16866896e-02,  1.17570613e+00,  1.22075762e+00,\n",
       "        -5.51803843e-01],\n",
       "       [-5.53795776e-01, -1.20205616e+00, -5.26647684e-02,\n",
       "         3.81580809e-04,  9.68808452e-02,  6.16866896e-02,\n",
       "         1.33333333e+00,  1.77271368e-01, -4.67767512e-01,\n",
       "         3.58371474e-01],\n",
       "       [ 2.06130388e-01, -6.32260630e-01, -1.32742624e+00,\n",
       "        -2.65244459e-01,  6.83060036e-01,  1.17570613e+00,\n",
       "         1.77271368e-01,  1.33333333e+00,  1.07891391e+00,\n",
       "         8.14416302e-02],\n",
       "       [ 8.65442990e-01,  1.27867049e-01, -1.12811984e+00,\n",
       "         2.42031778e-01,  9.64806151e-01,  1.22075762e+00,\n",
       "        -4.67767512e-01,  1.07891391e+00,  1.33333333e+00,\n",
       "        -5.61474762e-01],\n",
       "       [-1.27740547e+00, -6.48199809e-01, -5.83130708e-02,\n",
       "        -1.26442294e+00, -1.05920653e+00, -5.51803843e-01,\n",
       "         3.58371474e-01,  8.14416302e-02, -5.61474762e-01,\n",
       "         1.33333333e+00]])"
      ]
     },
     "execution_count": 13,
     "metadata": {},
     "output_type": "execute_result"
    }
   ],
   "source": [
    "cov"
   ]
  },
  {
   "cell_type": "code",
   "execution_count": 14,
   "metadata": {},
   "outputs": [],
   "source": [
    "eigen_vals,eigen_vecs=np.linalg.eig(cov)"
   ]
  },
  {
   "cell_type": "code",
   "execution_count": 15,
   "metadata": {},
   "outputs": [
    {
     "name": "stdout",
     "output_type": "stream",
     "text": [
      "values:\n",
      " [ 6.68907130e+00+0.00000000e+00j  4.45453290e+00+0.00000000e+00j\n",
      "  2.18972913e+00+0.00000000e+00j -4.31322206e-16+2.87425861e-16j\n",
      " -4.31322206e-16-2.87425861e-16j -4.12260624e-16+0.00000000e+00j\n",
      "  9.28685467e-17+2.65954627e-17j  9.28685467e-17-2.65954627e-17j\n",
      " -1.84008146e-16+8.68186306e-17j -1.84008146e-16-8.68186306e-17j]\n",
      "vectors:\n",
      " [[-0.37955633+0.j         -0.28799502+0.j         -0.01006036+0.j\n",
      "  -0.00802301-0.18942391j -0.00802301+0.18942391j -0.07603185+0.j\n",
      "   0.18944287-0.00408589j  0.18944287+0.00408589j -0.08293543-0.01543044j\n",
      "  -0.08293543+0.01543044j]\n",
      " [-0.04263845+0.j         -0.45748848+0.j          0.42140547+0.j\n",
      "  -0.37013852+0.28151661j -0.37013852-0.28151661j  0.22135893+0.j\n",
      "  -0.10922217+0.03375338j -0.10922217-0.03375338j  0.02708341-0.0276822j\n",
      "   0.02708341+0.0276822j ]\n",
      " [ 0.29593766+0.j         -0.38679937+0.j         -0.19239081+0.j\n",
      "  -0.09161778-0.14788965j -0.09161778+0.14788965j  0.37767   +0.j\n",
      "  -0.40170086+0.03526766j -0.40170086-0.03526766j  0.22723042+0.25888922j\n",
      "   0.22723042-0.25888922j]\n",
      " [-0.25174043+0.j         -0.35129993+0.j         -0.40528949+0.j\n",
      "  -0.06129977+0.07759304j -0.06129977-0.07759304j -0.02499868+0.j\n",
      "   0.1987775 -0.0559119j   0.1987775 +0.0559119j   0.14651124+0.06461431j\n",
      "   0.14651124-0.06461431j]\n",
      " [-0.42105807+0.j         -0.03218408+0.j         -0.25538237+0.j\n",
      "  -0.51984481+0.04323092j -0.51984481-0.04323092j  0.50817319+0.j\n",
      "  -0.12071489-0.0592356j  -0.12071489+0.0592356j   0.3485363 -0.25425558j\n",
      "   0.3485363 +0.25425558j]\n",
      " [-0.41161388+0.j          0.21173931+0.j         -0.01205767+0.j\n",
      "  -0.07553559-0.05039595j -0.07553559+0.05039595j  0.43522134+0.j\n",
      "   0.40964317-0.0195268j   0.40964317+0.0195268j  -0.41381804+0.29519728j\n",
      "  -0.41381804-0.29519728j]\n",
      " [ 0.08079751+0.j          0.28298746+0.j         -0.65272643+0.j\n",
      "  -0.06208102+0.17776621j -0.06208102-0.17776621j -0.09488566+0.j\n",
      "  -0.28168614+0.05432459j -0.28168614-0.05432459j -0.15988285+0.03200376j\n",
      "  -0.15988285-0.03200376j]\n",
      " [-0.28845716+0.j          0.40801475+0.j          0.12674997+0.j\n",
      "  -0.06345353+0.00623457j -0.06345353-0.00623457j -0.00608816+0.j\n",
      "  -0.23194604+0.08793696j -0.23194604-0.08793696j  0.56368061+0.j\n",
      "   0.56368061-0.j        ]\n",
      " [-0.40455578+0.j          0.12119647+0.j          0.28118681+0.j\n",
      "   0.20131235+0.0289201j   0.20131235-0.0289201j  -0.21149666+0.j\n",
      "  -0.59851607+0.j         -0.59851607-0.j         -0.10428016+0.15360516j\n",
      "  -0.10428016-0.15360516j]\n",
      " [ 0.32101336+0.j          0.35724207+0.j          0.18572427+0.j\n",
      "  -0.58865994+0.j         -0.58865994-0.j          0.54820709+0.j\n",
      "   0.21080951-0.11409596j  0.21080951+0.11409596j  0.15283591+0.02062494j\n",
      "   0.15283591-0.02062494j]]\n"
     ]
    }
   ],
   "source": [
    "print(\"values:\\n\",eigen_vals)\n",
    "print(\"vectors:\\n\",eigen_vecs)"
   ]
  },
  {
   "cell_type": "code",
   "execution_count": 16,
   "metadata": {},
   "outputs": [
    {
     "name": "stderr",
     "output_type": "stream",
     "text": [
      "/opt/anaconda3/lib/python3.8/site-packages/numpy/core/_asarray.py:83: ComplexWarning: Casting complex values to real discards the imaginary part\n",
      "  return array(a, dtype, copy=False, order=order)\n",
      "/opt/anaconda3/lib/python3.8/site-packages/numpy/core/_asarray.py:83: ComplexWarning: Casting complex values to real discards the imaginary part\n",
      "  return array(a, dtype, copy=False, order=order)\n"
     ]
    },
    {
     "data": {
      "text/plain": [
       "[<matplotlib.lines.Line2D at 0x7faf784d2910>]"
      ]
     },
     "execution_count": 16,
     "metadata": {},
     "output_type": "execute_result"
    },
    {
     "data": {
      "image/png": "[encoded data removed]",
      "text/plain": [
       "<Figure size 432x288 with 1 Axes>"
      ]
     },
     "metadata": {
      "needs_background": "light"
     },
     "output_type": "display_data"
    }
   ],
   "source": [
    "tot=sum(eigen_vals)\n",
    "var_exp=[(i/tot) for i in sorted(eigen_vals,reverse=True)]\n",
    "\n",
    "cum_var_exp=np.cumsum(var_exp)\n",
    "plt.rcParams['font.sans-serif'] = ['SimHei']\n",
    "plt.bar(range(1,11),var_exp)\n",
    "plt.step(range(1,11),cum_var_exp)"
   ]
  },
  {
   "cell_type": "code",
   "execution_count": 17,
   "metadata": {},
   "outputs": [],
   "source": [
    "eigen_pairs=[(np.abs(eigen_vals[i]),eigen_vecs[i]) for i in range(len(eigen_vals))]"
   ]
  },
  {
   "cell_type": "code",
   "execution_count": 18,
   "metadata": {},
   "outputs": [],
   "source": [
    "eigen_pairs.sort(key=lambda x:x[0],reverse=True)"
   ]
  },
  {
   "cell_type": "code",
   "execution_count": 19,
   "metadata": {},
   "outputs": [
    {
     "data": {
      "text/plain": [
       "[(6.689071301685768,\n",
       "  array([-0.37955633+0.j        , -0.28799502+0.j        ,\n",
       "         -0.01006036+0.j        , -0.00802301-0.18942391j,\n",
       "         -0.00802301+0.18942391j, -0.07603185+0.j        ,\n",
       "          0.18944287-0.00408589j,  0.18944287+0.00408589j,\n",
       "         -0.08293543-0.01543044j, -0.08293543+0.01543044j])),\n",
       " (4.454532903684379,\n",
       "  array([-0.04263845+0.j        , -0.45748848+0.j        ,\n",
       "          0.42140547+0.j        , -0.37013852+0.28151661j,\n",
       "         -0.37013852-0.28151661j,  0.22135893+0.j        ,\n",
       "         -0.10922217+0.03375338j, -0.10922217-0.03375338j,\n",
       "          0.02708341-0.0276822j ,  0.02708341+0.0276822j ])),\n",
       " (2.1897291279631834,\n",
       "  array([ 0.29593766+0.j        , -0.38679937+0.j        ,\n",
       "         -0.19239081+0.j        , -0.09161778-0.14788965j,\n",
       "         -0.09161778+0.14788965j,  0.37767   +0.j        ,\n",
       "         -0.40170086+0.03526766j, -0.40170086-0.03526766j,\n",
       "          0.22723042+0.25888922j,  0.22723042-0.25888922j])),\n",
       " (5.183169602288185e-16,\n",
       "  array([-0.25174043+0.j        , -0.35129993+0.j        ,\n",
       "         -0.40528949+0.j        , -0.06129977+0.07759304j,\n",
       "         -0.06129977-0.07759304j, -0.02499868+0.j        ,\n",
       "          0.1987775 -0.0559119j ,  0.1987775 +0.0559119j ,\n",
       "          0.14651124+0.06461431j,  0.14651124-0.06461431j])),\n",
       " (5.183169602288185e-16,\n",
       "  array([-0.42105807+0.j        , -0.03218408+0.j        ,\n",
       "         -0.25538237+0.j        , -0.51984481+0.04323092j,\n",
       "         -0.51984481-0.04323092j,  0.50817319+0.j        ,\n",
       "         -0.12071489-0.0592356j , -0.12071489+0.0592356j ,\n",
       "          0.3485363 -0.25425558j,  0.3485363 +0.25425558j])),\n",
       " (4.12260623991217e-16,\n",
       "  array([-0.41161388+0.j        ,  0.21173931+0.j        ,\n",
       "         -0.01205767+0.j        , -0.07553559-0.05039595j,\n",
       "         -0.07553559+0.05039595j,  0.43522134+0.j        ,\n",
       "          0.40964317-0.0195268j ,  0.40964317+0.0195268j ,\n",
       "         -0.41381804+0.29519728j, -0.41381804-0.29519728j])),\n",
       " (2.0346123099380439e-16,\n",
       "  array([-0.40455578+0.j        ,  0.12119647+0.j        ,\n",
       "          0.28118681+0.j        ,  0.20131235+0.0289201j ,\n",
       "          0.20131235-0.0289201j , -0.21149666+0.j        ,\n",
       "         -0.59851607+0.j        , -0.59851607-0.j        ,\n",
       "         -0.10428016+0.15360516j, -0.10428016-0.15360516j])),\n",
       " (2.0346123099380439e-16,\n",
       "  array([ 0.32101336+0.j        ,  0.35724207+0.j        ,\n",
       "          0.18572427+0.j        , -0.58865994+0.j        ,\n",
       "         -0.58865994-0.j        ,  0.54820709+0.j        ,\n",
       "          0.21080951-0.11409596j,  0.21080951+0.11409596j,\n",
       "          0.15283591+0.02062494j,  0.15283591-0.02062494j])),\n",
       " (9.660168530043543e-17,\n",
       "  array([ 0.08079751+0.j        ,  0.28298746+0.j        ,\n",
       "         -0.65272643+0.j        , -0.06208102+0.17776621j,\n",
       "         -0.06208102-0.17776621j, -0.09488566+0.j        ,\n",
       "         -0.28168614+0.05432459j, -0.28168614-0.05432459j,\n",
       "         -0.15988285+0.03200376j, -0.15988285-0.03200376j])),\n",
       " (9.660168530043543e-17,\n",
       "  array([-0.28845716+0.j        ,  0.40801475+0.j        ,\n",
       "          0.12674997+0.j        , -0.06345353+0.00623457j,\n",
       "         -0.06345353-0.00623457j, -0.00608816+0.j        ,\n",
       "         -0.23194604+0.08793696j, -0.23194604-0.08793696j,\n",
       "          0.56368061+0.j        ,  0.56368061-0.j        ]))]"
      ]
     },
     "execution_count": 19,
     "metadata": {},
     "output_type": "execute_result"
    }
   ],
   "source": [
    "eigen_pairs"
   ]
  },
  {
   "cell_type": "code",
   "execution_count": 20,
   "metadata": {},
   "outputs": [
    {
     "data": {
      "text/plain": [
       "array([-0.37955633+0.j, -0.04263845+0.j,  0.29593766+0.j, -0.25174043+0.j,\n",
       "       -0.42105807+0.j, -0.41161388+0.j,  0.08079751+0.j, -0.28845716+0.j,\n",
       "       -0.40455578+0.j,  0.32101336+0.j])"
      ]
     },
     "execution_count": 20,
     "metadata": {},
     "output_type": "execute_result"
    }
   ],
   "source": [
    "eigen_vecs[:,0]"
   ]
  },
  {
   "cell_type": "code",
   "execution_count": 21,
   "metadata": {},
   "outputs": [],
   "source": [
    "w = np.vstack((eigen_vecs[:,0], eigen_vecs[:, 1]))  # 降維投影矩陣W"
   ]
  },
  {
   "cell_type": "code",
   "execution_count": 22,
   "metadata": {},
   "outputs": [
    {
     "data": {
      "text/plain": [
       "array([[-0.37955633+0.j, -0.04263845+0.j,  0.29593766+0.j,\n",
       "        -0.25174043+0.j, -0.42105807+0.j, -0.41161388+0.j,\n",
       "         0.08079751+0.j, -0.28845716+0.j, -0.40455578+0.j,\n",
       "         0.32101336+0.j],\n",
       "       [-0.28799502+0.j, -0.45748848+0.j, -0.38679937+0.j,\n",
       "        -0.35129993+0.j, -0.03218408+0.j,  0.21173931+0.j,\n",
       "         0.28298746+0.j,  0.40801475+0.j,  0.12119647+0.j,\n",
       "         0.35724207+0.j]])"
      ]
     },
     "execution_count": 22,
     "metadata": {},
     "output_type": "execute_result"
    }
   ],
   "source": [
    "w"
   ]
  },
  {
   "cell_type": "code",
   "execution_count": 23,
   "metadata": {},
   "outputs": [
    {
     "data": {
      "text/plain": [
       "array([[-2.45625399+0.j, -1.73841076+0.j],\n",
       "       [-1.37705861+0.j,  0.29135631+0.j],\n",
       "       [ 3.46433151+0.j, -1.42235895+0.j],\n",
       "       [ 0.36898108+0.j,  2.8694134 +0.j]])"
      ]
     },
     "execution_count": 23,
     "metadata": {},
     "output_type": "execute_result"
    }
   ],
   "source": [
    "newdata=teamdata.dot(w.T)\n",
    "newdata"
   ]
  },
  {
   "cell_type": "code",
   "execution_count": 24,
   "metadata": {},
   "outputs": [
    {
     "name": "stdout",
     "output_type": "stream",
     "text": [
      "新竹街口攻城獅\n",
      "桃園領航猿\n",
      "福爾摩沙台新夢想家\n",
      "臺北富邦勇士\n"
     ]
    },
    {
     "name": "stderr",
     "output_type": "stream",
     "text": [
      "/opt/anaconda3/lib/python3.8/site-packages/numpy/core/_asarray.py:136: ComplexWarning: Casting complex values to real discards the imaginary part\n",
      "  return array(a, dtype, copy=False, order=order, subok=True)\n"
     ]
    },
    {
     "data": {
      "image/png": "[encoded data removed]",
      "text/plain": [
       "<Figure size 432x288 with 1 Axes>"
      ]
     },
     "metadata": {
      "needs_background": "light"
     },
     "output_type": "display_data"
    }
   ],
   "source": [
    "color=['r','g','b','y']\n",
    "marker=['s','x','o','^']\n",
    "for l, c, m in zip(np.unique(teamname), color, marker):\n",
    "    plt.scatter(newdata[teamname == l,0],\n",
    "                newdata[teamname == l,1],\n",
    "                c=c,label=l,marker=m)\n",
    "    print(l)\n",
    "plt.title('Result')\n",
    "plt.xlabel('PC1')\n",
    "plt.ylabel('PC2')\n",
    "plt.legend(loc='best')\n",
    "plt.show()"
   ]
  },
  {
   "cell_type": "code",
   "execution_count": 25,
   "metadata": {},
   "outputs": [
    {
     "data": {
      "text/plain": [
       "array([[-2.45625399+0.j, -1.73841076+0.j],\n",
       "       [-1.37705861+0.j,  0.29135631+0.j],\n",
       "       [ 3.46433151+0.j, -1.42235895+0.j],\n",
       "       [ 0.36898108+0.j,  2.8694134 +0.j]])"
      ]
     },
     "execution_count": 25,
     "metadata": {},
     "output_type": "execute_result"
    }
   ],
   "source": [
    "newdata"
   ]
  },
  {
   "cell_type": "code",
   "execution_count": 26,
   "metadata": {},
   "outputs": [
    {
     "data": {
      "text/plain": [
       "array([-1.37705861+0.j])"
      ]
     },
     "execution_count": 26,
     "metadata": {},
     "output_type": "execute_result"
    }
   ],
   "source": [
    "newdata[teamname == '桃園領航猿',0]"
   ]
  },
  {
   "cell_type": "code",
   "execution_count": 27,
   "metadata": {},
   "outputs": [],
   "source": [
    "dfw=pd.DataFrame(w)\n",
    "dfw.index=['first','second']"
   ]
  },
  {
   "cell_type": "code",
   "execution_count": 28,
   "metadata": {},
   "outputs": [
    {
     "data": {
      "text/html": [
       "<div>\n",
       "<style scoped>\n",
       "    .dataframe tbody tr th:only-of-type {\n",
       "        vertical-align: middle;\n",
       "    }\n",
       "\n",
       "    .dataframe tbody tr th {\n",
       "        vertical-align: top;\n",
       "    }\n",
       "\n",
       "    .dataframe thead th {\n",
       "        text-align: right;\n",
       "    }\n",
       "</style>\n",
       "<table border=\"1\" class=\"dataframe\">\n",
       "  <thead>\n",
       "    <tr style=\"text-align: right;\">\n",
       "      <th></th>\n",
       "      <th>0</th>\n",
       "      <th>1</th>\n",
       "      <th>2</th>\n",
       "      <th>3</th>\n",
       "      <th>4</th>\n",
       "      <th>5</th>\n",
       "      <th>6</th>\n",
       "      <th>7</th>\n",
       "      <th>8</th>\n",
       "      <th>9</th>\n",
       "    </tr>\n",
       "  </thead>\n",
       "  <tbody>\n",
       "    <tr>\n",
       "      <th>first</th>\n",
       "      <td>-0.379556+0.000000j</td>\n",
       "      <td>-0.042638+0.000000j</td>\n",
       "      <td>0.295938+0.000000j</td>\n",
       "      <td>-0.251740+0.000000j</td>\n",
       "      <td>-0.421058+0.000000j</td>\n",
       "      <td>-0.411614+0.000000j</td>\n",
       "      <td>0.080798+0.000000j</td>\n",
       "      <td>-0.288457+0.000000j</td>\n",
       "      <td>-0.404556+0.000000j</td>\n",
       "      <td>0.321013+0.000000j</td>\n",
       "    </tr>\n",
       "    <tr>\n",
       "      <th>second</th>\n",
       "      <td>-0.287995+0.000000j</td>\n",
       "      <td>-0.457488+0.000000j</td>\n",
       "      <td>-0.386799+0.000000j</td>\n",
       "      <td>-0.351300+0.000000j</td>\n",
       "      <td>-0.032184+0.000000j</td>\n",
       "      <td>0.211739+0.000000j</td>\n",
       "      <td>0.282987+0.000000j</td>\n",
       "      <td>0.408015+0.000000j</td>\n",
       "      <td>0.121196+0.000000j</td>\n",
       "      <td>0.357242+0.000000j</td>\n",
       "    </tr>\n",
       "  </tbody>\n",
       "</table>\n",
       "</div>"
      ],
      "text/plain": [
       "                         0                   1                   2  \\\n",
       "first  -0.379556+0.000000j -0.042638+0.000000j  0.295938+0.000000j   \n",
       "second -0.287995+0.000000j -0.457488+0.000000j -0.386799+0.000000j   \n",
       "\n",
       "                         3                   4                   5  \\\n",
       "first  -0.251740+0.000000j -0.421058+0.000000j -0.411614+0.000000j   \n",
       "second -0.351300+0.000000j -0.032184+0.000000j  0.211739+0.000000j   \n",
       "\n",
       "                         6                   7                   8  \\\n",
       "first   0.080798+0.000000j -0.288457+0.000000j -0.404556+0.000000j   \n",
       "second  0.282987+0.000000j  0.408015+0.000000j  0.121196+0.000000j   \n",
       "\n",
       "                         9  \n",
       "first   0.321013+0.000000j  \n",
       "second  0.357242+0.000000j  "
      ]
     },
     "execution_count": 28,
     "metadata": {},
     "output_type": "execute_result"
    }
   ],
   "source": [
    "dfw"
   ]
  },
  {
   "cell_type": "code",
   "execution_count": null,
   "metadata": {},
   "outputs": [],
   "source": []
  }
 ],
 "metadata": {
  "kernelspec": {
   "display_name": "Python 3",
   "language": "python",
   "name": "python3"
  },
  "language_info": {
   "codemirror_mode": {
    "name": "ipython",
    "version": 3
   },
   "file_extension": ".py",
   "mimetype": "text/x-python",
   "name": "python",
   "nbconvert_exporter": "python",
   "pygments_lexer": "ipython3",
   "version": "3.8.5"
  }
 },
 "nbformat": 4,
 "nbformat_minor": 4
}
